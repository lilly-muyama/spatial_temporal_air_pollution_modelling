{
 "cells": [
  {
   "cell_type": "code",
   "execution_count": 1,
   "id": "55a9b629",
   "metadata": {},
   "outputs": [],
   "source": [
    "import pandas as pd\n",
    "import numpy as np\n",
    "import sys\n",
    "from math import sqrt\n",
    "sys.path.append('../..')\n",
    "from modules import utils\n",
    "from sklearn.ensemble import RandomForestRegressor\n",
    "from sklearn.metrics import mean_squared_error, mean_absolute_percentage_error\n",
    "import warnings\n",
    "warnings.filterwarnings('ignore')\n",
    "import matplotlib.pyplot as plt\n",
    "%matplotlib inline"
   ]
  },
  {
   "cell_type": "code",
   "execution_count": 34,
   "id": "0f5711d1",
   "metadata": {},
   "outputs": [
    {
     "data": {
      "text/html": [
       "<div>\n",
       "<style scoped>\n",
       "    .dataframe tbody tr th:only-of-type {\n",
       "        vertical-align: middle;\n",
       "    }\n",
       "\n",
       "    .dataframe tbody tr th {\n",
       "        vertical-align: top;\n",
       "    }\n",
       "\n",
       "    .dataframe thead th {\n",
       "        text-align: right;\n",
       "    }\n",
       "</style>\n",
       "<table border=\"1\" class=\"dataframe\">\n",
       "  <thead>\n",
       "    <tr style=\"text-align: right;\">\n",
       "      <th></th>\n",
       "      <th>name</th>\n",
       "      <th>location</th>\n",
       "      <th>id</th>\n",
       "      <th>lat</th>\n",
       "      <th>long</th>\n",
       "      <th>population_density</th>\n",
       "      <th>altitude</th>\n",
       "      <th>road_distance</th>\n",
       "      <th>residential_road_distance</th>\n",
       "      <th>terrain_90</th>\n",
       "      <th>division</th>\n",
       "    </tr>\n",
       "  </thead>\n",
       "  <tbody>\n",
       "    <tr>\n",
       "      <th>0</th>\n",
       "      <td>aq_79</td>\n",
       "      <td>Ntinda</td>\n",
       "      <td>930434</td>\n",
       "      <td>0.360209</td>\n",
       "      <td>32.610756</td>\n",
       "      <td>4637.08</td>\n",
       "      <td>1216.25</td>\n",
       "      <td>17.46</td>\n",
       "      <td>17.46</td>\n",
       "      <td>21</td>\n",
       "      <td>Nakawa</td>\n",
       "    </tr>\n",
       "    <tr>\n",
       "      <th>1</th>\n",
       "      <td>aq_29</td>\n",
       "      <td>Bugolobi</td>\n",
       "      <td>718028</td>\n",
       "      <td>0.307500</td>\n",
       "      <td>32.620600</td>\n",
       "      <td>5576.65</td>\n",
       "      <td>1143.54</td>\n",
       "      <td>303.33</td>\n",
       "      <td>303.33</td>\n",
       "      <td>31</td>\n",
       "      <td>Nakawa</td>\n",
       "    </tr>\n",
       "    <tr>\n",
       "      <th>2</th>\n",
       "      <td>aq_69</td>\n",
       "      <td>Nantabulirwa</td>\n",
       "      <td>912224</td>\n",
       "      <td>0.346460</td>\n",
       "      <td>32.703280</td>\n",
       "      <td>530.79</td>\n",
       "      <td>1182.83</td>\n",
       "      <td>26.76</td>\n",
       "      <td>26.76</td>\n",
       "      <td>21</td>\n",
       "      <td>NaN</td>\n",
       "    </tr>\n",
       "    <tr>\n",
       "      <th>3</th>\n",
       "      <td>aq_71</td>\n",
       "      <td>Kireka</td>\n",
       "      <td>930426</td>\n",
       "      <td>0.365500</td>\n",
       "      <td>32.646800</td>\n",
       "      <td>1299.25</td>\n",
       "      <td>1188.21</td>\n",
       "      <td>33.39</td>\n",
       "      <td>33.39</td>\n",
       "      <td>31</td>\n",
       "      <td>NaN</td>\n",
       "    </tr>\n",
       "    <tr>\n",
       "      <th>4</th>\n",
       "      <td>aq_72</td>\n",
       "      <td>Luwafu</td>\n",
       "      <td>930427</td>\n",
       "      <td>0.268900</td>\n",
       "      <td>32.588000</td>\n",
       "      <td>5924.30</td>\n",
       "      <td>1171.50</td>\n",
       "      <td>27.70</td>\n",
       "      <td>27.70</td>\n",
       "      <td>31</td>\n",
       "      <td>Makindye</td>\n",
       "    </tr>\n",
       "  </tbody>\n",
       "</table>\n",
       "</div>"
      ],
      "text/plain": [
       "    name      location      id       lat       long  population_density  \\\n",
       "0  aq_79        Ntinda  930434  0.360209  32.610756             4637.08   \n",
       "1  aq_29      Bugolobi  718028  0.307500  32.620600             5576.65   \n",
       "2  aq_69  Nantabulirwa  912224  0.346460  32.703280              530.79   \n",
       "3  aq_71        Kireka  930426  0.365500  32.646800             1299.25   \n",
       "4  aq_72        Luwafu  930427  0.268900  32.588000             5924.30   \n",
       "\n",
       "   altitude  road_distance  residential_road_distance  terrain_90  division  \n",
       "0   1216.25          17.46                      17.46          21    Nakawa  \n",
       "1   1143.54         303.33                     303.33          31    Nakawa  \n",
       "2   1182.83          26.76                      26.76          21       NaN  \n",
       "3   1188.21          33.39                      33.39          31       NaN  \n",
       "4   1171.50          27.70                      27.70          31  Makindye  "
      ]
     },
     "execution_count": 34,
     "metadata": {},
     "output_type": "execute_result"
    }
   ],
   "source": [
    "kampala_devices = pd.read_csv('../data/kampala_devices.csv')#, usecols=['lat', 'long', 'id'])\n",
    "kampala_devices.head()"
   ]
  },
  {
   "cell_type": "code",
   "execution_count": 3,
   "id": "5d9b2666",
   "metadata": {},
   "outputs": [
    {
     "data": {
      "text/html": [
       "<div>\n",
       "<style scoped>\n",
       "    .dataframe tbody tr th:only-of-type {\n",
       "        vertical-align: middle;\n",
       "    }\n",
       "\n",
       "    .dataframe tbody tr th {\n",
       "        vertical-align: top;\n",
       "    }\n",
       "\n",
       "    .dataframe thead th {\n",
       "        text-align: right;\n",
       "    }\n",
       "</style>\n",
       "<table border=\"1\" class=\"dataframe\">\n",
       "  <thead>\n",
       "    <tr style=\"text-align: right;\">\n",
       "      <th></th>\n",
       "      <th>site_name</th>\n",
       "      <th>latitude</th>\n",
       "      <th>longitude</th>\n",
       "      <th>city</th>\n",
       "      <th>timestamp</th>\n",
       "      <th>pm2_5_calibrated_value</th>\n",
       "      <th>pm2_5_raw_value</th>\n",
       "      <th>pm10_raw_value</th>\n",
       "      <th>pm10_calibrated_value</th>\n",
       "      <th>site_id</th>\n",
       "      <th>device_number</th>\n",
       "      <th>device_name</th>\n",
       "    </tr>\n",
       "  </thead>\n",
       "  <tbody>\n",
       "    <tr>\n",
       "      <th>0</th>\n",
       "      <td>Civic Centre, Kampala Central</td>\n",
       "      <td>0.317725</td>\n",
       "      <td>32.592509</td>\n",
       "      <td>Kampala</td>\n",
       "      <td>2021-09-01 00:00:00+00:00</td>\n",
       "      <td>NaN</td>\n",
       "      <td>NaN</td>\n",
       "      <td>NaN</td>\n",
       "      <td>NaN</td>\n",
       "      <td>60d058c8048305120d2d6145</td>\n",
       "      <td>689761</td>\n",
       "      <td>aq_26</td>\n",
       "    </tr>\n",
       "    <tr>\n",
       "      <th>1</th>\n",
       "      <td>Civic Centre, Kampala Central</td>\n",
       "      <td>0.317725</td>\n",
       "      <td>32.592509</td>\n",
       "      <td>Kampala</td>\n",
       "      <td>2021-09-01 01:00:00+00:00</td>\n",
       "      <td>NaN</td>\n",
       "      <td>NaN</td>\n",
       "      <td>NaN</td>\n",
       "      <td>NaN</td>\n",
       "      <td>60d058c8048305120d2d6145</td>\n",
       "      <td>689761</td>\n",
       "      <td>aq_26</td>\n",
       "    </tr>\n",
       "    <tr>\n",
       "      <th>2</th>\n",
       "      <td>Civic Centre, Kampala Central</td>\n",
       "      <td>0.317725</td>\n",
       "      <td>32.592509</td>\n",
       "      <td>Kampala</td>\n",
       "      <td>2021-09-01 02:00:00+00:00</td>\n",
       "      <td>NaN</td>\n",
       "      <td>NaN</td>\n",
       "      <td>NaN</td>\n",
       "      <td>NaN</td>\n",
       "      <td>60d058c8048305120d2d6145</td>\n",
       "      <td>689761</td>\n",
       "      <td>aq_26</td>\n",
       "    </tr>\n",
       "    <tr>\n",
       "      <th>3</th>\n",
       "      <td>Civic Centre, Kampala Central</td>\n",
       "      <td>0.317725</td>\n",
       "      <td>32.592509</td>\n",
       "      <td>Kampala</td>\n",
       "      <td>2021-09-01 03:00:00+00:00</td>\n",
       "      <td>NaN</td>\n",
       "      <td>NaN</td>\n",
       "      <td>NaN</td>\n",
       "      <td>NaN</td>\n",
       "      <td>60d058c8048305120d2d6145</td>\n",
       "      <td>689761</td>\n",
       "      <td>aq_26</td>\n",
       "    </tr>\n",
       "    <tr>\n",
       "      <th>4</th>\n",
       "      <td>Civic Centre, Kampala Central</td>\n",
       "      <td>0.317725</td>\n",
       "      <td>32.592509</td>\n",
       "      <td>Kampala</td>\n",
       "      <td>2021-09-01 04:00:00+00:00</td>\n",
       "      <td>NaN</td>\n",
       "      <td>NaN</td>\n",
       "      <td>NaN</td>\n",
       "      <td>NaN</td>\n",
       "      <td>60d058c8048305120d2d6145</td>\n",
       "      <td>689761</td>\n",
       "      <td>aq_26</td>\n",
       "    </tr>\n",
       "  </tbody>\n",
       "</table>\n",
       "</div>"
      ],
      "text/plain": [
       "                       site_name  latitude  longitude     city  \\\n",
       "0  Civic Centre, Kampala Central  0.317725  32.592509  Kampala   \n",
       "1  Civic Centre, Kampala Central  0.317725  32.592509  Kampala   \n",
       "2  Civic Centre, Kampala Central  0.317725  32.592509  Kampala   \n",
       "3  Civic Centre, Kampala Central  0.317725  32.592509  Kampala   \n",
       "4  Civic Centre, Kampala Central  0.317725  32.592509  Kampala   \n",
       "\n",
       "                  timestamp  pm2_5_calibrated_value  pm2_5_raw_value  \\\n",
       "0 2021-09-01 00:00:00+00:00                     NaN              NaN   \n",
       "1 2021-09-01 01:00:00+00:00                     NaN              NaN   \n",
       "2 2021-09-01 02:00:00+00:00                     NaN              NaN   \n",
       "3 2021-09-01 03:00:00+00:00                     NaN              NaN   \n",
       "4 2021-09-01 04:00:00+00:00                     NaN              NaN   \n",
       "\n",
       "   pm10_raw_value  pm10_calibrated_value                   site_id  \\\n",
       "0             NaN                    NaN  60d058c8048305120d2d6145   \n",
       "1             NaN                    NaN  60d058c8048305120d2d6145   \n",
       "2             NaN                    NaN  60d058c8048305120d2d6145   \n",
       "3             NaN                    NaN  60d058c8048305120d2d6145   \n",
       "4             NaN                    NaN  60d058c8048305120d2d6145   \n",
       "\n",
       "   device_number device_name  \n",
       "0         689761       aq_26  \n",
       "1         689761       aq_26  \n",
       "2         689761       aq_26  \n",
       "3         689761       aq_26  \n",
       "4         689761       aq_26  "
      ]
     },
     "execution_count": 3,
     "metadata": {},
     "output_type": "execute_result"
    }
   ],
   "source": [
    "kampala_df = pd.read_csv('../data/kampala_data.csv', parse_dates=['timestamp'])\n",
    "kampala_df.head()"
   ]
  },
  {
   "cell_type": "code",
   "execution_count": 4,
   "id": "7f0a0244",
   "metadata": {},
   "outputs": [
    {
     "data": {
      "text/html": [
       "<div>\n",
       "<style scoped>\n",
       "    .dataframe tbody tr th:only-of-type {\n",
       "        vertical-align: middle;\n",
       "    }\n",
       "\n",
       "    .dataframe tbody tr th {\n",
       "        vertical-align: top;\n",
       "    }\n",
       "\n",
       "    .dataframe thead th {\n",
       "        text-align: right;\n",
       "    }\n",
       "</style>\n",
       "<table border=\"1\" class=\"dataframe\">\n",
       "  <thead>\n",
       "    <tr style=\"text-align: right;\">\n",
       "      <th></th>\n",
       "      <th>time</th>\n",
       "      <th>latitude</th>\n",
       "      <th>longitude</th>\n",
       "      <th>pm2_5</th>\n",
       "      <th>device_number</th>\n",
       "      <th>site_name</th>\n",
       "    </tr>\n",
       "  </thead>\n",
       "  <tbody>\n",
       "    <tr>\n",
       "      <th>0</th>\n",
       "      <td>453031.0</td>\n",
       "      <td>0.356989</td>\n",
       "      <td>32.613888</td>\n",
       "      <td>10.5477</td>\n",
       "      <td>930434</td>\n",
       "      <td>Ntinda, Nakawa</td>\n",
       "    </tr>\n",
       "    <tr>\n",
       "      <th>1</th>\n",
       "      <td>453032.0</td>\n",
       "      <td>0.356989</td>\n",
       "      <td>32.613888</td>\n",
       "      <td>16.4250</td>\n",
       "      <td>930434</td>\n",
       "      <td>Ntinda, Nakawa</td>\n",
       "    </tr>\n",
       "    <tr>\n",
       "      <th>2</th>\n",
       "      <td>453033.0</td>\n",
       "      <td>0.356989</td>\n",
       "      <td>32.613888</td>\n",
       "      <td>17.7239</td>\n",
       "      <td>930434</td>\n",
       "      <td>Ntinda, Nakawa</td>\n",
       "    </tr>\n",
       "    <tr>\n",
       "      <th>3</th>\n",
       "      <td>453034.0</td>\n",
       "      <td>0.356989</td>\n",
       "      <td>32.613888</td>\n",
       "      <td>16.1533</td>\n",
       "      <td>930434</td>\n",
       "      <td>Ntinda, Nakawa</td>\n",
       "    </tr>\n",
       "    <tr>\n",
       "      <th>4</th>\n",
       "      <td>453035.0</td>\n",
       "      <td>0.356989</td>\n",
       "      <td>32.613888</td>\n",
       "      <td>18.0123</td>\n",
       "      <td>930434</td>\n",
       "      <td>Ntinda, Nakawa</td>\n",
       "    </tr>\n",
       "  </tbody>\n",
       "</table>\n",
       "</div>"
      ],
      "text/plain": [
       "       time  latitude  longitude    pm2_5  device_number       site_name\n",
       "0  453031.0  0.356989  32.613888  10.5477         930434  Ntinda, Nakawa\n",
       "1  453032.0  0.356989  32.613888  16.4250         930434  Ntinda, Nakawa\n",
       "2  453033.0  0.356989  32.613888  17.7239         930434  Ntinda, Nakawa\n",
       "3  453034.0  0.356989  32.613888  16.1533         930434  Ntinda, Nakawa\n",
       "4  453035.0  0.356989  32.613888  18.0123         930434  Ntinda, Nakawa"
      ]
     },
     "execution_count": 4,
     "metadata": {},
     "output_type": "execute_result"
    }
   ],
   "source": [
    "final_df = pd.DataFrame()\n",
    "# device_ids = []\n",
    "cols = ['timestamp', 'latitude', 'longitude', 'pm2_5_calibrated_value', 'device_number', 'site_name']\n",
    "# for i, device_id in enumerate(device_ids):\n",
    "for i, device_id in kampala_devices.id.iteritems():\n",
    "    device_df = utils.get_device_data(kampala_df, device_id, cols)\n",
    "#     if len(device_df)!=0:\n",
    "#         device_ids.append(device_id)\n",
    "    processed_df = utils.preprocessing(device_df)\n",
    "#     print(f'{device_id}: {len(processed_df)}')\n",
    "    final_df = pd.concat([final_df, processed_df])\n",
    "final_df.reset_index(drop=True, inplace=True)\n",
    "final_df.head()"
   ]
  },
  {
   "cell_type": "code",
   "execution_count": 5,
   "id": "8891b29b",
   "metadata": {},
   "outputs": [
    {
     "data": {
      "text/plain": [
       "(35, 35, 34, 34)"
      ]
     },
     "execution_count": 5,
     "metadata": {},
     "output_type": "execute_result"
    }
   ],
   "source": [
    "latitudes = final_df['latitude'].unique()\n",
    "longitudes = final_df['longitude'].unique()\n",
    "device_ids = final_df['device_number'].unique()\n",
    "site_names = final_df['site_name'].unique()\n",
    "len(latitudes), len(longitudes), len(device_ids), len(site_names)"
   ]
  },
  {
   "cell_type": "code",
   "execution_count": 19,
   "id": "95c40e44",
   "metadata": {},
   "outputs": [
    {
     "data": {
      "text/html": [
       "<div>\n",
       "<style scoped>\n",
       "    .dataframe tbody tr th:only-of-type {\n",
       "        vertical-align: middle;\n",
       "    }\n",
       "\n",
       "    .dataframe tbody tr th {\n",
       "        vertical-align: top;\n",
       "    }\n",
       "\n",
       "    .dataframe thead th {\n",
       "        text-align: right;\n",
       "    }\n",
       "</style>\n",
       "<table border=\"1\" class=\"dataframe\">\n",
       "  <thead>\n",
       "    <tr style=\"text-align: right;\">\n",
       "      <th></th>\n",
       "      <th>time</th>\n",
       "      <th>latitude</th>\n",
       "      <th>longitude</th>\n",
       "      <th>pm2_5</th>\n",
       "    </tr>\n",
       "  </thead>\n",
       "  <tbody>\n",
       "    <tr>\n",
       "      <th>0</th>\n",
       "      <td>453031.0</td>\n",
       "      <td>0.356989</td>\n",
       "      <td>32.613888</td>\n",
       "      <td>10.5477</td>\n",
       "    </tr>\n",
       "    <tr>\n",
       "      <th>1</th>\n",
       "      <td>453032.0</td>\n",
       "      <td>0.356989</td>\n",
       "      <td>32.613888</td>\n",
       "      <td>16.4250</td>\n",
       "    </tr>\n",
       "    <tr>\n",
       "      <th>2</th>\n",
       "      <td>453033.0</td>\n",
       "      <td>0.356989</td>\n",
       "      <td>32.613888</td>\n",
       "      <td>17.7239</td>\n",
       "    </tr>\n",
       "    <tr>\n",
       "      <th>3</th>\n",
       "      <td>453034.0</td>\n",
       "      <td>0.356989</td>\n",
       "      <td>32.613888</td>\n",
       "      <td>16.1533</td>\n",
       "    </tr>\n",
       "    <tr>\n",
       "      <th>4</th>\n",
       "      <td>453035.0</td>\n",
       "      <td>0.356989</td>\n",
       "      <td>32.613888</td>\n",
       "      <td>18.0123</td>\n",
       "    </tr>\n",
       "  </tbody>\n",
       "</table>\n",
       "</div>"
      ],
      "text/plain": [
       "       time  latitude  longitude    pm2_5\n",
       "0  453031.0  0.356989  32.613888  10.5477\n",
       "1  453032.0  0.356989  32.613888  16.4250\n",
       "2  453033.0  0.356989  32.613888  17.7239\n",
       "3  453034.0  0.356989  32.613888  16.1533\n",
       "4  453035.0  0.356989  32.613888  18.0123"
      ]
     },
     "execution_count": 19,
     "metadata": {},
     "output_type": "execute_result"
    }
   ],
   "source": [
    "final_df = final_df.drop(['device_number', 'site_name'], axis=1)\n",
    "final_df.head()"
   ]
  },
  {
   "cell_type": "markdown",
   "id": "eaa65151",
   "metadata": {},
   "source": [
    "#### delete from here"
   ]
  },
  {
   "cell_type": "code",
   "execution_count": 40,
   "id": "16cb4566",
   "metadata": {},
   "outputs": [
    {
     "name": "stdout",
     "output_type": "stream",
     "text": [
      "0.360209 for Ntinda: no\n",
      "0.3075 for Bugolobi: no\n",
      "0.34646 for Nantabulirwa: no\n",
      "0.3655 for Kireka: no\n",
      "0.2689 for Luwafu: no\n",
      "0.341674 for Banda: no\n",
      "0.325346 for Mbuya II: no\n",
      "0.322108 for Nakasero II: no\n",
      "0.373078 for Kiwatule: no\n",
      "0.381576 for Kyaliwajjala: no\n",
      "0.30778 for Butabika: no\n",
      "0.363 for Nansana West: no\n",
      "0.3759 for Nansana East: no\n",
      "0.3101 for Busega: no\n",
      "0.3875 for Kyanja: no\n",
      "0.2182 for Busabala: no\n",
      "0.269993 for Bunamwaya: no\n",
      "0.3564 for Kyebando: no\n",
      "0.299 for Lukuli: no\n",
      "0.3517 for Bukoto I: no\n",
      "0.29875 for Kansanga: no\n",
      "0.344 for Kasubi: no\n",
      "0.3412 for Naguru II: no\n",
      "0.289 for Makindye I: no\n",
      "0.3323 for Makerere University: no\n",
      "0.295314 for Lubaga: no\n",
      "0.354825 for Bweyogerere: no\n",
      "0.314 for Civic Centre: no\n",
      "0.059604 for Kiwafu: no\n",
      "0.347014 for Kireka: no\n",
      "0.235668 for Seguku: no\n",
      "0.2336 for Seguku(2): no\n",
      "0.2836 for Lukuli(2): no\n",
      "0.391478 for Najjera: no\n",
      "0.32232 for Nakasero II(2): no\n",
      "0.286595 for Kyengera: no\n",
      "0.307489 for Kisugu: no\n"
     ]
    }
   ],
   "source": [
    "used_kampala_devices = {}\n",
    "for lat, location in list(zip(list(kampala_devices.lat), list(kampala_devices.location))):\n",
    "    if lat in final_df.latitude.unique():\n",
    "        print(f'{lat} for {location}: yes')\n",
    "        used_kampala_devices[location] = lat\n",
    "    else:\n",
    "        print(f'{lat} for {location}: no')"
   ]
  },
  {
   "cell_type": "code",
   "execution_count": 28,
   "id": "455e1f7e",
   "metadata": {},
   "outputs": [
    {
     "data": {
      "text/plain": [
       "1122"
      ]
     },
     "execution_count": 28,
     "metadata": {},
     "output_type": "execute_result"
    }
   ],
   "source": [
    "device_indices = final_df[final_df.latitude==latitudes[idx]].index\n",
    "len(device_indices)"
   ]
  },
  {
   "cell_type": "code",
   "execution_count": 29,
   "id": "967f7348",
   "metadata": {},
   "outputs": [
    {
     "data": {
      "text/plain": [
       "1122"
      ]
     },
     "execution_count": 29,
     "metadata": {},
     "output_type": "execute_result"
    }
   ],
   "source": [
    "test_df = final_df.loc[device_indices]\n",
    "len(test_df)"
   ]
  },
  {
   "cell_type": "code",
   "execution_count": 30,
   "id": "1aad8a64",
   "metadata": {},
   "outputs": [
    {
     "data": {
      "text/plain": [
       "46990"
      ]
     },
     "execution_count": 30,
     "metadata": {},
     "output_type": "execute_result"
    }
   ],
   "source": [
    "train_df = pd.concat([final_df, test_df]).drop_duplicates(keep=False)\n",
    "len(train_df)"
   ]
  },
  {
   "cell_type": "code",
   "execution_count": 31,
   "id": "6a000d6f",
   "metadata": {},
   "outputs": [
    {
     "data": {
      "text/plain": [
       "((46990, 3), (46990,), (1122, 3), (1122,))"
      ]
     },
     "execution_count": 31,
     "metadata": {},
     "output_type": "execute_result"
    }
   ],
   "source": [
    "X_train = train_df.iloc[:, 0:-1]\n",
    "y_train = train_df.iloc[:, -1]\n",
    "X_test = test_df.iloc[:, 0:-1]\n",
    "y_test = test_df.iloc[:, -1]\n",
    "X_train.shape, y_train.shape, X_test.shape, y_test.shape"
   ]
  },
  {
   "cell_type": "code",
   "execution_count": 32,
   "id": "2ed8f2ed",
   "metadata": {},
   "outputs": [],
   "source": [
    "rf = RandomForestRegressor(random_state=42)\n",
    "rf.fit(X_train, y_train)\n",
    "y_pred = rf.predict(X_test)"
   ]
  },
  {
   "cell_type": "code",
   "execution_count": 33,
   "id": "b3b27bf3",
   "metadata": {},
   "outputs": [
    {
     "data": {
      "text/plain": [
       "(13.724796577766055, 0.17220297410941773)"
      ]
     },
     "execution_count": 33,
     "metadata": {},
     "output_type": "execute_result"
    }
   ],
   "source": [
    "rmse = sqrt(mean_squared_error(y_test, y_pred))\n",
    "mape = mean_absolute_percentage_error(y_test, y_pred)\n",
    "rmse, mape"
   ]
  },
  {
   "cell_type": "code",
   "execution_count": null,
   "id": "e8fbcae6",
   "metadata": {},
   "outputs": [],
   "source": []
  },
  {
   "cell_type": "code",
   "execution_count": null,
   "id": "59c5547d",
   "metadata": {},
   "outputs": [],
   "source": []
  },
  {
   "cell_type": "code",
   "execution_count": null,
   "id": "5e23fa3a",
   "metadata": {},
   "outputs": [],
   "source": []
  },
  {
   "cell_type": "markdown",
   "id": "e41c2220",
   "metadata": {},
   "source": [
    "#### end here"
   ]
  },
  {
   "cell_type": "code",
   "execution_count": 7,
   "id": "70d4add6",
   "metadata": {},
   "outputs": [],
   "source": [
    "def cross_validation(final_df, idx):\n",
    "    device_indices = final_df[final_df.latitude==latitudes[idx]].index\n",
    "    device_df = kampala_df[kampala_df.device_number == device_ids[idx]]\n",
    "#     assert(len(device_indices) == len(device_df)-device_df.pm2_5_calibrated_value.isna().sum())\n",
    "    \n",
    "    test_df = final_df.loc[device_indices]\n",
    "#     assert(len(test_df.longitude.unique()) == 1)\n",
    "    \n",
    "    train_df = pd.concat([final_df, test_df]).drop_duplicates(keep=False)\n",
    "#     assert(len(train_df.longitude.unique()) == len(longitudes)-1)\n",
    "#     assert len(final_df) == len(test_df) + len(train_df)\n",
    "    \n",
    "    X_train = train_df.iloc[:, 0:-1]\n",
    "    y_train = train_df.iloc[:, -1]\n",
    "#     X_train, y_train = np.array(X_train), np.array(y_train).reshape(-1, 1)\n",
    "    \n",
    "    X_test = test_df.iloc[:, 0:-1]\n",
    "    y_test = test_df.iloc[:, -1]\n",
    "#     X_test, y_test = np.array(X_test), np.array(y_test).reshape(-1, 1)\n",
    "    \n",
    "    rf = RandomForestRegressor(random_state=42)#, n_estimators=1000, criterion='poisson') #, max_depth=10, criterion='poisson')\n",
    "    rf.fit(X_train, y_train)\n",
    "    y_pred = rf.predict(X_test)\n",
    "    \n",
    "    \n",
    "    rmse = sqrt(mean_squared_error(y_test, y_pred))\n",
    "    mape = mean_absolute_percentage_error(y_test, y_pred)\n",
    "    return rmse, mape\n",
    "    \n",
    "#     return mean.numpy(), var.numpy(), Xtest, Ytest, round(rmse, 2)"
   ]
  },
  {
   "cell_type": "code",
   "execution_count": 8,
   "id": "e09c3891",
   "metadata": {},
   "outputs": [
    {
     "data": {
      "text/plain": [
       "35"
      ]
     },
     "execution_count": 8,
     "metadata": {},
     "output_type": "execute_result"
    }
   ],
   "source": [
    "len(latitudes)"
   ]
  },
  {
   "cell_type": "code",
   "execution_count": 9,
   "id": "93c45074",
   "metadata": {},
   "outputs": [
    {
     "name": "stdout",
     "output_type": "stream",
     "text": [
      "Location 0 successful\n",
      "Location 1 successful\n",
      "Location 2 successful\n",
      "Location 3 successful\n",
      "Location 4 successful\n",
      "Location 5 successful\n",
      "Location 6 successful\n",
      "Location 7 successful\n",
      "Location 8 successful\n",
      "Location 9 successful\n",
      "Location 10 successful\n",
      "Location 11 successful\n",
      "Location 12 successful\n",
      "Location 13 successful\n",
      "Location 14 successful\n",
      "Location 15 successful\n",
      "Location 16 successful\n",
      "Location 17 successful\n",
      "Location 18 successful\n",
      "Location 19 successful\n",
      "Location 20 successful\n",
      "Location 21 successful\n",
      "Location 22 successful\n",
      "Location 23 successful\n",
      "Location 24 successful\n",
      "Location 25 successful\n",
      "Location 26 successful\n",
      "Location 27 successful\n",
      "Location 28 successful\n",
      "Location 29 successful\n",
      "Location 30 successful\n",
      "Location 31 successful\n",
      "Location 32 successful\n",
      "Location 33 successful\n",
      "index 34 is out of bounds for axis 0 with size 34\n",
      "Location 34 failed\n"
     ]
    },
    {
     "data": {
      "text/plain": [
       "(19.940137446240488, 0.45472188092156024)"
      ]
     },
     "execution_count": 9,
     "metadata": {},
     "output_type": "execute_result"
    }
   ],
   "source": [
    "rmse_list, mape_list = [], []\n",
    "for i in range(len(latitudes)):\n",
    "    try:\n",
    "        rmse, mape = cross_validation(final_df, i)\n",
    "        rmse_list.append(rmse)\n",
    "        mape_list.append(mape)\n",
    "        print(f'Location {i} successful')\n",
    "    except Exception as e:\n",
    "        print(e)\n",
    "        print(f'Location {i} failed')\n",
    "#         break\n",
    "\n",
    "mean_rmse = np.mean(rmse_list)\n",
    "mean_mape = np.mean(mape_list)\n",
    "mean_rmse, mean_mape"
   ]
  },
  {
   "cell_type": "code",
   "execution_count": 10,
   "id": "fa4838e3",
   "metadata": {},
   "outputs": [
    {
     "data": {
      "text/plain": [
       "[18.34175620077039,\n",
       " 14.89516816727961,\n",
       " 9.080491859092863,\n",
       " 17.481187936568688,\n",
       " 20.96525506086254,\n",
       " 24.44449108335595,\n",
       " 24.89814942093462,\n",
       " 10.379296271569423,\n",
       " 35.760902835373805,\n",
       " 19.945454272388435,\n",
       " 24.32439242598901,\n",
       " 21.48797351535103,\n",
       " 33.52032472927006,\n",
       " 34.107523077573795,\n",
       " 10.576123162332461,\n",
       " 19.423491982676957,\n",
       " 23.81842187875786,\n",
       " 16.818692153477254,\n",
       " 18.811074249755922,\n",
       " 10.932778990584968,\n",
       " 40.30247534267074,\n",
       " 8.799535616735671,\n",
       " 16.934761163975008,\n",
       " 22.241168087211445,\n",
       " 22.642804451008583,\n",
       " 16.89452033508089,\n",
       " 19.92300494118627,\n",
       " 19.440327016185094,\n",
       " 16.706179157925494,\n",
       " 11.15748804335201,\n",
       " 9.825233113852722,\n",
       " 19.885301898087032,\n",
       " 10.991295357168884,\n",
       " 32.2076293737712]"
      ]
     },
     "execution_count": 10,
     "metadata": {},
     "output_type": "execute_result"
    }
   ],
   "source": [
    "rmse_list"
   ]
  },
  {
   "cell_type": "code",
   "execution_count": 11,
   "id": "c29f5855",
   "metadata": {
    "scrolled": true
   },
   "outputs": [
    {
     "data": {
      "text/plain": [
       "[0.5408992353111689,\n",
       " 0.666015066541813,\n",
       " 0.32936736071111,\n",
       " 0.5547086979159785,\n",
       " 0.3945982385300032,\n",
       " 0.3034921409008256,\n",
       " 0.6256634620059499,\n",
       " 0.19561724861818583,\n",
       " 0.34117088320098377,\n",
       " 0.40495966873751793,\n",
       " 0.3235036441630674,\n",
       " 0.7879564923232223,\n",
       " 1.0047419672543083,\n",
       " 0.3598397976406427,\n",
       " 0.4177349177328254,\n",
       " 0.46029656176640327,\n",
       " 0.33881902137971104,\n",
       " 0.25392099980935395,\n",
       " 0.5881628459452052,\n",
       " 0.3899889731229063,\n",
       " 0.5344646719733501,\n",
       " 0.31758605544196317,\n",
       " 0.6928475224667948,\n",
       " 0.7032426918277074,\n",
       " 0.6554887699353212,\n",
       " 0.34269275968676177,\n",
       " 0.2735728022039775,\n",
       " 0.316462627287529,\n",
       " 0.4728441082405393,\n",
       " 0.3256345970837768,\n",
       " 0.21945219680665615,\n",
       " 0.30210845974623113,\n",
       " 0.28236750853209586,\n",
       " 0.7403219564891591]"
      ]
     },
     "execution_count": 11,
     "metadata": {},
     "output_type": "execute_result"
    }
   ],
   "source": [
    "mape_list"
   ]
  },
  {
   "cell_type": "code",
   "execution_count": null,
   "id": "695b7354",
   "metadata": {},
   "outputs": [],
   "source": []
  },
  {
   "cell_type": "code",
   "execution_count": null,
   "id": "3b35a850",
   "metadata": {},
   "outputs": [],
   "source": []
  }
 ],
 "metadata": {
  "kernelspec": {
   "display_name": "Python 3 (ipykernel)",
   "language": "python",
   "name": "python3"
  },
  "language_info": {
   "codemirror_mode": {
    "name": "ipython",
    "version": 3
   },
   "file_extension": ".py",
   "mimetype": "text/x-python",
   "name": "python",
   "nbconvert_exporter": "python",
   "pygments_lexer": "ipython3",
   "version": "3.7.4"
  }
 },
 "nbformat": 4,
 "nbformat_minor": 5
}
