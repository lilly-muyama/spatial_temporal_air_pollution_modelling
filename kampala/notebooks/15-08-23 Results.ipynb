{
 "cells": [
  {
   "cell_type": "code",
   "execution_count": 3,
   "id": "67fc19d9",
   "metadata": {},
   "outputs": [],
   "source": [
    "import numpy as np"
   ]
  },
  {
   "cell_type": "code",
   "execution_count": 6,
   "id": "528e23c5",
   "metadata": {},
   "outputs": [],
   "source": [
    "gpr_list = [15.840293402303036,\n",
    " 12.411611340509312,\n",
    " 18.184540967174655,\n",
    " 17.246424589458503,\n",
    " 23.29413136214671,\n",
    " 14.3352798724628,\n",
    " 11.51427085243903,\n",
    " 14.055738981446122,\n",
    " 29.627608547279888,\n",
    " 12.533757449975477,\n",
    " 12.006668690292585,\n",
    " 16.132992284695543,\n",
    " 10.541216223291801,\n",
    " 14.04221503246313,\n",
    " 16.10923939005971,\n",
    " 18.970083338736092,\n",
    " 18.912733815568437,\n",
    " 40.319705982001615,\n",
    " 16.71238018803243,\n",
    " 18.63449134732769,\n",
    " 21.118661355341246,\n",
    " 36.943414699273085,\n",
    " 13.328384545900182,\n",
    " 22.495519849733693,\n",
    " 22.024865682091335,\n",
    " 11.960482018298446,\n",
    " 13.32086427261953,\n",
    " 17.54651907273299,\n",
    " 20.56825776459036,\n",
    " 11.41341888429773,\n",
    " 31.139211193467624,\n",
    " 13.86719407442642,\n",
    " 21.667059274847514,\n",
    " 13.775508348321841]"
   ]
  },
  {
   "cell_type": "code",
   "execution_count": 12,
   "id": "fc1c6c12",
   "metadata": {},
   "outputs": [
    {
     "data": {
      "text/plain": [
       "(18.311610138047254,\n",
       " 16.422686236363987,\n",
       " 10.541216223291801,\n",
       " 40.319705982001615,\n",
       " 7.00843539375536)"
      ]
     },
     "execution_count": 12,
     "metadata": {},
     "output_type": "execute_result"
    }
   ],
   "source": [
    "np.mean(gpr_list), np.median(gpr_list), np.min(gpr_list), np.max(gpr_list), np.std(gpr_list)"
   ]
  },
  {
   "cell_type": "code",
   "execution_count": 8,
   "id": "7de1dea6",
   "metadata": {},
   "outputs": [
    {
     "data": {
      "text/plain": [
       "34"
      ]
     },
     "execution_count": 8,
     "metadata": {},
     "output_type": "execute_result"
    }
   ],
   "source": [
    "len(kla_rmse_list)"
   ]
  },
  {
   "cell_type": "code",
   "execution_count": 10,
   "id": "5a4eebf1",
   "metadata": {},
   "outputs": [],
   "source": [
    "jinja_rmse_list = [12.392748068081326,\n",
    " 12.490940231078387,\n",
    " 18.355401328528973,\n",
    " 22.49526554098684,\n",
    " 13.97650697595383,\n",
    " 20.928436658019418,\n",
    " 15.450300003105971,\n",
    " 11.880319201876942,\n",
    " 20.92206443687476,\n",
    " 23.094273155675]"
   ]
  },
  {
   "cell_type": "code",
   "execution_count": 14,
   "id": "859dde4d",
   "metadata": {},
   "outputs": [
    {
     "data": {
      "text/plain": [
       "(17.198625560018147,\n",
       " 16.90285066581747,\n",
       " 11.880319201876942,\n",
       " 23.094273155675,\n",
       " 4.229757750756356)"
      ]
     },
     "execution_count": 14,
     "metadata": {},
     "output_type": "execute_result"
    }
   ],
   "source": [
    "np.mean(jinja_rmse_list), np.median(jinja_rmse_list), np.min(jinja_rmse_list), np.max(jinja_rmse_list), np.std(jinja_rmse_list)"
   ]
  },
  {
   "cell_type": "markdown",
   "id": "a38596dd",
   "metadata": {},
   "source": [
    "#### SVM"
   ]
  },
  {
   "cell_type": "code",
   "execution_count": 23,
   "id": "95f46584",
   "metadata": {},
   "outputs": [
    {
     "data": {
      "text/plain": [
       "(21.00411857903308,\n",
       " 7.653767007232776,\n",
       " 22.326319667930804,\n",
       " 9.232101245029892,\n",
       " 30.149532897160633)"
      ]
     },
     "execution_count": 23,
     "metadata": {},
     "output_type": "execute_result"
    }
   ],
   "source": [
    "svm_kla_list = [9.232101245029892,\n",
    " 29.920487211667478,\n",
    " 16.32331364173235,\n",
    " 23.428121093689235,\n",
    " 11.740157391829635,\n",
    " 27.11933483827792,\n",
    " 21.22451824217237,\n",
    " 12.314868142588486,\n",
    " 28.588751086182793,\n",
    " 30.149532897160633]\n",
    "np.mean(svm_kla_list), np.std(svm_kla_list), np.median(svm_kla_list), np.min(svm_kla_list), np.max(svm_kla_list)"
   ]
  },
  {
   "cell_type": "markdown",
   "id": "afefb092",
   "metadata": {},
   "source": [
    "#### RF"
   ]
  },
  {
   "cell_type": "code",
   "execution_count": 24,
   "id": "25e5e7bb",
   "metadata": {},
   "outputs": [
    {
     "data": {
      "text/plain": [
       "(19.901018969458526,\n",
       " 2.5564014370930246,\n",
       " 19.930159110267468,\n",
       " 16.84817794187716,\n",
       " 24.081440924753075)"
      ]
     },
     "execution_count": 24,
     "metadata": {},
     "output_type": "execute_result"
    }
   ],
   "source": [
    "rf_list = [17.032383280361227,\n",
    " 21.73553303738471,\n",
    " 17.624846830403907,\n",
    " 16.84817794187716,\n",
    " 21.946917104882605,\n",
    " 20.584420630689863,\n",
    " 17.04770538788406,\n",
    " 19.275897589845076,\n",
    " 22.832866966503595,\n",
    " 24.081440924753075]\n",
    "np.mean(rf_list), np.std(rf_list), np.median(rf_list), np.min(rf_list), np.max(rf_list)"
   ]
  },
  {
   "cell_type": "markdown",
   "id": "5e40f797",
   "metadata": {},
   "source": [
    "#### XGBoost"
   ]
  },
  {
   "cell_type": "code",
   "execution_count": 25,
   "id": "bda67196",
   "metadata": {},
   "outputs": [
    {
     "data": {
      "text/plain": [
       "(19.683560204210064,\n",
       " 3.502743609451135,\n",
       " 20.223034402705906,\n",
       " 13.694505395175758,\n",
       " 25.105164038885334)"
      ]
     },
     "execution_count": 25,
     "metadata": {},
     "output_type": "execute_result"
    }
   ],
   "source": [
    "xgb_list = [15.53059172255647,\n",
    " 22.0763464593091,\n",
    " 13.694505395175758,\n",
    " 16.783540413764364,\n",
    " 23.002583992418046,\n",
    " 22.105990676338827,\n",
    " 18.090810538240927,\n",
    " 18.484663094062284,\n",
    " 21.961405711349524,\n",
    " 25.105164038885334]\n",
    "np.mean(xgb_list), np.std(xgb_list), np.median(xgb_list), np.min(xgb_list), np.max(xgb_list)"
   ]
  },
  {
   "cell_type": "markdown",
   "id": "8bb85302",
   "metadata": {},
   "source": [
    "####  FFNN"
   ]
  },
  {
   "cell_type": "code",
   "execution_count": 34,
   "id": "0a15beb1",
   "metadata": {},
   "outputs": [
    {
     "data": {
      "text/plain": [
       "(20.24697209692375,\n",
       " 6.23407850837092,\n",
       " 20.915144258823876,\n",
       " 11.203911634408598,\n",
       " 28.120356636671833,\n",
       " 10)"
      ]
     },
     "execution_count": 34,
     "metadata": {},
     "output_type": "execute_result"
    }
   ],
   "source": [
    "ffnn_list = [11.203911634408598,\n",
    " 28.120356636671833,\n",
    " 15.952966227119552,\n",
    " 21.569782662883096,\n",
    " 12.779133984640609,\n",
    " 25.731768231812158,\n",
    " 20.260505854764656,\n",
    " 13.145863888932682,\n",
    " 26.100157299102378,\n",
    " 27.605274548901978]\n",
    "np.mean(ffnn_list), np.std(ffnn_list), np.median(ffnn_list), np.min(ffnn_list), np.max(ffnn_list), len(ffnn_list)"
   ]
  },
  {
   "cell_type": "markdown",
   "id": "82696bd8",
   "metadata": {},
   "source": [
    "#### LSTM"
   ]
  },
  {
   "cell_type": "code",
   "execution_count": 30,
   "id": "bc8d1604",
   "metadata": {},
   "outputs": [
    {
     "data": {
      "text/plain": [
       "(20.201759435003318,\n",
       " 5.881220417322812,\n",
       " 20.702135364132396,\n",
       " 11.854034696603891,\n",
       " 27.75428504750109,\n",
       " 10)"
      ]
     },
     "execution_count": 30,
     "metadata": {},
     "output_type": "execute_result"
    }
   ],
   "source": [
    "lstm_list = [11.854034696603891,\n",
    " 27.75428504750109,\n",
    " 16.119571166939636,\n",
    " 21.163536674144265,\n",
    " 13.189698278611292,\n",
    " 25.434054617997926,\n",
    " 20.24073405412053,\n",
    " 13.399983250122864,\n",
    " 25.669789985406528,\n",
    " 27.191906578585108]\n",
    "np.mean(lstm_list), np.std(lstm_list), np.median(lstm_list), np.min(lstm_list), np.max(lstm_list), len(lstm_list)"
   ]
  },
  {
   "cell_type": "markdown",
   "id": "0d22974e",
   "metadata": {},
   "source": [
    "#### BNN"
   ]
  },
  {
   "cell_type": "code",
   "execution_count": 29,
   "id": "8fc18a21",
   "metadata": {},
   "outputs": [
    {
     "data": {
      "text/plain": [
       "(20.90167805465533,\n",
       " 7.5622367839934395,\n",
       " 22.282468222084972,\n",
       " 9.268337361797059,\n",
       " 29.908759612166573,\n",
       " 10)"
      ]
     },
     "execution_count": 29,
     "metadata": {},
     "output_type": "execute_result"
    }
   ],
   "source": [
    "bnn_list = [9.268337361797059,\n",
    " 29.908759612166573,\n",
    " 16.259898250660317,\n",
    " 23.42619240839267,\n",
    " 11.726813490578142,\n",
    " 27.2458846634553,\n",
    " 21.13874403577728,\n",
    " 12.275006826234067,\n",
    " 28.119107711177733,\n",
    " 29.64803618631419]\n",
    "np.mean(bnn_list), np.std(bnn_list), np.median(bnn_list), np.min(bnn_list), np.max(bnn_list), len(bnn_list)"
   ]
  },
  {
   "cell_type": "markdown",
   "id": "b3d3c947",
   "metadata": {},
   "source": [
    "#### DGPR"
   ]
  },
  {
   "cell_type": "code",
   "execution_count": 31,
   "id": "44c16028",
   "metadata": {},
   "outputs": [
    {
     "data": {
      "text/plain": [
       "(26.59576142318528,\n",
       " 8.031820836639053,\n",
       " 28.125424484801542,\n",
       " 14.643179264579443,\n",
       " 36.27407269124016,\n",
       " 10)"
      ]
     },
     "execution_count": 31,
     "metadata": {},
     "output_type": "execute_result"
    }
   ],
   "source": [
    "dgpr_list = [14.643179264579443,\n",
    " 35.634663231645845,\n",
    " 21.827238595996572,\n",
    " 29.869927777770382,\n",
    " 16.47450830307615,\n",
    " 32.75873757786329,\n",
    " 26.380921191832698,\n",
    " 17.319733688738637,\n",
    " 34.77463190910959,\n",
    " 36.27407269124016]\n",
    "np.mean(dgpr_list), np.std(dgpr_list), np.median(dgpr_list), np.min(dgpr_list), np.max(dgpr_list), len(dgpr_list)"
   ]
  },
  {
   "cell_type": "code",
   "execution_count": null,
   "id": "dc0b4dba",
   "metadata": {},
   "outputs": [],
   "source": []
  }
 ],
 "metadata": {
  "kernelspec": {
   "display_name": "Python 3 (ipykernel)",
   "language": "python",
   "name": "python3"
  },
  "language_info": {
   "codemirror_mode": {
    "name": "ipython",
    "version": 3
   },
   "file_extension": ".py",
   "mimetype": "text/x-python",
   "name": "python",
   "nbconvert_exporter": "python",
   "pygments_lexer": "ipython3",
   "version": "3.7.4"
  }
 },
 "nbformat": 4,
 "nbformat_minor": 5
}
