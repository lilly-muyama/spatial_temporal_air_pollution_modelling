{
 "cells": [
  {
   "cell_type": "code",
   "execution_count": 1,
   "id": "55a9b629",
   "metadata": {},
   "outputs": [],
   "source": [
    "import pandas as pd\n",
    "import numpy as np\n",
    "import sys\n",
    "from math import sqrt\n",
    "sys.path.append('../..')\n",
    "from modules import utils\n",
    "from sklearn.ensemble import RandomForestRegressor\n",
    "from sklearn.metrics import mean_squared_error, mean_absolute_percentage_error\n",
    "import warnings\n",
    "warnings.filterwarnings('ignore')\n",
    "import matplotlib.pyplot as plt\n",
    "%matplotlib inline"
   ]
  },
  {
   "cell_type": "code",
   "execution_count": null,
   "id": "a7ddcd33",
   "metadata": {},
   "outputs": [],
   "source": [
    "kampala_devices = pd.read_csv('../data/kampala_devices.csv', usecols=['lat', 'long', 'id'])\n",
    "kampala_devices.head()"
   ]
  },
  {
   "cell_type": "code",
   "execution_count": null,
   "id": "2ac64257",
   "metadata": {},
   "outputs": [],
   "source": [
    "kampala_df = pd.read_csv('../data/kampala_data.csv', parse_dates=['timestamp'])\n",
    "kampala_df.head()"
   ]
  },
  {
   "cell_type": "code",
   "execution_count": 3,
   "id": "8891b29b",
   "metadata": {},
   "outputs": [
    {
     "data": {
      "text/plain": [
       "(10, 10, 10)"
      ]
     },
     "execution_count": 3,
     "metadata": {},
     "output_type": "execute_result"
    }
   ],
   "source": [
    "latitudes = kampala_df['latitude'].unique()\n",
    "longitudes = kampala_df['longitude'].unique()\n",
    "device_ids = kampala_df['device_number'].unique()\n",
    "len(latitudes), len(longitudes), len(device_ids)"
   ]
  },
  {
   "cell_type": "code",
   "execution_count": 4,
   "id": "7f0a0244",
   "metadata": {},
   "outputs": [
    {
     "data": {
      "text/html": [
       "<div>\n",
       "<style scoped>\n",
       "    .dataframe tbody tr th:only-of-type {\n",
       "        vertical-align: middle;\n",
       "    }\n",
       "\n",
       "    .dataframe tbody tr th {\n",
       "        vertical-align: top;\n",
       "    }\n",
       "\n",
       "    .dataframe thead th {\n",
       "        text-align: right;\n",
       "    }\n",
       "</style>\n",
       "<table border=\"1\" class=\"dataframe\">\n",
       "  <thead>\n",
       "    <tr style=\"text-align: right;\">\n",
       "      <th></th>\n",
       "      <th>time</th>\n",
       "      <th>latitude</th>\n",
       "      <th>longitude</th>\n",
       "      <th>pm2_5</th>\n",
       "    </tr>\n",
       "  </thead>\n",
       "  <tbody>\n",
       "    <tr>\n",
       "      <th>0</th>\n",
       "      <td>452909.0</td>\n",
       "      <td>0.437337</td>\n",
       "      <td>33.211051</td>\n",
       "      <td>12.2844</td>\n",
       "    </tr>\n",
       "    <tr>\n",
       "      <th>1</th>\n",
       "      <td>452910.0</td>\n",
       "      <td>0.437337</td>\n",
       "      <td>33.211051</td>\n",
       "      <td>11.6507</td>\n",
       "    </tr>\n",
       "    <tr>\n",
       "      <th>2</th>\n",
       "      <td>452911.0</td>\n",
       "      <td>0.437337</td>\n",
       "      <td>33.211051</td>\n",
       "      <td>22.3980</td>\n",
       "    </tr>\n",
       "    <tr>\n",
       "      <th>3</th>\n",
       "      <td>452912.0</td>\n",
       "      <td>0.437337</td>\n",
       "      <td>33.211051</td>\n",
       "      <td>17.4937</td>\n",
       "    </tr>\n",
       "    <tr>\n",
       "      <th>4</th>\n",
       "      <td>452913.0</td>\n",
       "      <td>0.437337</td>\n",
       "      <td>33.211051</td>\n",
       "      <td>25.1622</td>\n",
       "    </tr>\n",
       "  </tbody>\n",
       "</table>\n",
       "</div>"
      ],
      "text/plain": [
       "       time  latitude  longitude    pm2_5\n",
       "0  452909.0  0.437337  33.211051  12.2844\n",
       "1  452910.0  0.437337  33.211051  11.6507\n",
       "2  452911.0  0.437337  33.211051  22.3980\n",
       "3  452912.0  0.437337  33.211051  17.4937\n",
       "4  452913.0  0.437337  33.211051  25.1622"
      ]
     },
     "execution_count": 4,
     "metadata": {},
     "output_type": "execute_result"
    }
   ],
   "source": [
    "final_df = pd.DataFrame()\n",
    "cols = ['timestamp', 'latitude', 'longitude', 'pm2_5_calibrated_value']\n",
    "# for i, device_id in enumerate(device_ids):\n",
    "for i, device_id in kampala_devices.id.iteritems():\n",
    "    device_df = utils.get_device_data(kampala_df, device_id, cols)\n",
    "    processed_df = utils.preprocessing(device_df)\n",
    "#     print(f'{device_id}: {len(processed_df)}')\n",
    "    final_df = pd.concat([final_df, processed_df])\n",
    "final_df.reset_index(drop=True, inplace=True)\n",
    "final_df.head()"
   ]
  },
  {
   "cell_type": "code",
   "execution_count": 9,
   "id": "ee7e71ab",
   "metadata": {},
   "outputs": [],
   "source": [
    "def cross_validation(final_df, idx): device 0 test data (device 1) train dat(0, 2-9)\n",
    "    device_indices = final_df[final_df.latitude==latitudes[idx]].index\n",
    "    device_df = jinja_df[jinja_df.device_number == device_ids[idx]]\n",
    "    assert(len(device_indices) == len(device_df)-device_df.pm2_5_calibrated_value.isna().sum())\n",
    "    \n",
    "    test_df = final_df.loc[device_indices]\n",
    "    assert(len(test_df.longitude.unique()) == 1)\n",
    "    \n",
    "    train_df = pd.concat([final_df, test_df]).drop_duplicates(keep=False)\n",
    "    assert(len(train_df.longitude.unique()) == len(longitudes)-1)\n",
    "    assert len(final_df) == len(test_df) + len(train_df)\n",
    "    \n",
    "    X_train = train_df.iloc[:, 0:-1]\n",
    "    y_train = train_df.iloc[:, -1]\n",
    "#     X_train, y_train = np.array(X_train), np.array(y_train).reshape(-1, 1)\n",
    "    \n",
    "    X_test = test_df.iloc[:, 0:-1]\n",
    "    y_test = test_df.iloc[:, -1]\n",
    "#     X_test, y_test = np.array(X_test), np.array(y_test).reshape(-1, 1)\n",
    "\n",
    "    rf = RandomForestRegressor(random_state=42, max_depth=10, criterion='poisson')\n",
    "    rf.fit(X_train, y_train)\n",
    "    y_pred = rf.predict(X_test)\n",
    "    \n",
    "    rmse = sqrt(mean_squared_error(y_test, y_pred))\n",
    "    mape = mean_absolute_percentage_error(y_test, y_pred)\n",
    "    return rmse, mape"
   ]
  },
  {
   "cell_type": "code",
   "execution_count": 10,
   "id": "93c45074",
   "metadata": {},
   "outputs": [
    {
     "name": "stdout",
     "output_type": "stream",
     "text": [
      "689753 successful\n",
      "1014698 successful\n",
      "1014692 successful\n",
      "1014697 successful\n",
      "1290038 successful\n",
      "1373035 successful\n",
      "1373037 successful\n",
      "1373038 successful\n",
      "1373039 successful\n",
      "1379965 successful\n"
     ]
    },
    {
     "data": {
      "text/plain": [
       "(19.69430448939011, 0.5643648042750995)"
      ]
     },
     "execution_count": 10,
     "metadata": {},
     "output_type": "execute_result"
    }
   ],
   "source": [
    "rmse_list, mape_list = [], []\n",
    "for i in range(len(latitudes)):\n",
    "    try:\n",
    "        rmse, mape = cross_validation(final_df, i)\n",
    "        rmse_list.append(rmse)\n",
    "        mape_list.append(mape)\n",
    "        print(f'{device_ids[i]} successful')\n",
    "    except Exception as e:\n",
    "        print(e)\n",
    "        print(f'{device_ids[i]} failed')\n",
    "        break\n",
    "\n",
    "mean_rmse = np.mean(rmse_list)\n",
    "mean_mape = np.mean(mape_list)\n",
    "mean_rmse, mean_mape"
   ]
  },
  {
   "cell_type": "code",
   "execution_count": 11,
   "id": "fa4838e3",
   "metadata": {},
   "outputs": [
    {
     "data": {
      "text/plain": [
       "[12.241201419408393,\n",
       " 25.229634395188874,\n",
       " 14.260509560671483,\n",
       " 20.433131438537327,\n",
       " 14.899375650060366,\n",
       " 24.37108241541304,\n",
       " 19.31253493801969,\n",
       " 15.945549671340961,\n",
       " 22.660007637074415,\n",
       " 27.590017768186556]"
      ]
     },
     "execution_count": 11,
     "metadata": {},
     "output_type": "execute_result"
    }
   ],
   "source": [
    "rmse_list"
   ]
  },
  {
   "cell_type": "code",
   "execution_count": 12,
   "id": "c29f5855",
   "metadata": {},
   "outputs": [
    {
     "data": {
      "text/plain": [
       "[0.6971021254772152,\n",
       " 0.41927932742832463,\n",
       " 0.6087609380145022,\n",
       " 0.39888884824229276,\n",
       " 0.6337334243794378,\n",
       " 0.4969947543395657,\n",
       " 0.460330901168504,\n",
       " 0.899051969680015,\n",
       " 0.610246397773172,\n",
       " 0.4192593562479652]"
      ]
     },
     "execution_count": 12,
     "metadata": {},
     "output_type": "execute_result"
    }
   ],
   "source": [
    "mape_list"
   ]
  },
  {
   "cell_type": "code",
   "execution_count": null,
   "id": "695b7354",
   "metadata": {},
   "outputs": [],
   "source": []
  },
  {
   "cell_type": "code",
   "execution_count": null,
   "id": "3b35a850",
   "metadata": {},
   "outputs": [],
   "source": []
  }
 ],
 "metadata": {
  "kernelspec": {
   "display_name": "Python 3 (ipykernel)",
   "language": "python",
   "name": "python3"
  },
  "language_info": {
   "codemirror_mode": {
    "name": "ipython",
    "version": 3
   },
   "file_extension": ".py",
   "mimetype": "text/x-python",
   "name": "python",
   "nbconvert_exporter": "python",
   "pygments_lexer": "ipython3",
   "version": "3.7.4"
  }
 },
 "nbformat": 4,
 "nbformat_minor": 5
}
