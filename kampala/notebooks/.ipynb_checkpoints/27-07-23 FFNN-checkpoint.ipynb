{
 "cells": [
  {
   "cell_type": "code",
   "execution_count": 1,
   "id": "148a9670",
   "metadata": {},
   "outputs": [
    {
     "name": "stderr",
     "output_type": "stream",
     "text": [
      "2023-07-26 18:24:30.977135: I tensorflow/core/platform/cpu_feature_guard.cc:193] This TensorFlow binary is optimized with oneAPI Deep Neural Network Library (oneDNN) to use the following CPU instructions in performance-critical operations:  AVX2 AVX_VNNI FMA\n",
      "To enable them in other operations, rebuild TensorFlow with the appropriate compiler flags.\n",
      "2023-07-26 18:24:31.037501: I tensorflow/core/util/port.cc:104] oneDNN custom operations are on. You may see slightly different numerical results due to floating-point round-off errors from different computation orders. To turn them off, set the environment variable `TF_ENABLE_ONEDNN_OPTS=0`.\n",
      "2023-07-26 18:24:31.039750: W tensorflow/compiler/xla/stream_executor/platform/default/dso_loader.cc:64] Could not load dynamic library 'libcudart.so.11.0'; dlerror: libcudart.so.11.0: cannot open shared object file: No such file or directory\n",
      "2023-07-26 18:24:31.039759: I tensorflow/compiler/xla/stream_executor/cuda/cudart_stub.cc:29] Ignore above cudart dlerror if you do not have a GPU set up on your machine.\n",
      "2023-07-26 18:24:31.348376: W tensorflow/compiler/xla/stream_executor/platform/default/dso_loader.cc:64] Could not load dynamic library 'libnvinfer.so.7'; dlerror: libnvinfer.so.7: cannot open shared object file: No such file or directory\n",
      "2023-07-26 18:24:31.348407: W tensorflow/compiler/xla/stream_executor/platform/default/dso_loader.cc:64] Could not load dynamic library 'libnvinfer_plugin.so.7'; dlerror: libnvinfer_plugin.so.7: cannot open shared object file: No such file or directory\n",
      "2023-07-26 18:24:31.348410: W tensorflow/compiler/tf2tensorrt/utils/py_utils.cc:38] TF-TRT Warning: Cannot dlopen some TensorRT libraries. If you would like to use Nvidia GPU with TensorRT, please make sure the missing libraries mentioned above are installed properly.\n"
     ]
    }
   ],
   "source": [
    "import pandas as pd\n",
    "import numpy as np\n",
    "import sys\n",
    "import os\n",
    "import random\n",
    "from math import sqrt\n",
    "sys.path.append('../..')\n",
    "from modules import utils\n",
    "import tensorflow as tf\n",
    "from tensorflow.keras.layers import Input, Dense, Dropout\n",
    "from sklearn.preprocessing import MinMaxScaler\n",
    "from sklearn.metrics import mean_squared_error, mean_absolute_percentage_error\n",
    "import warnings\n",
    "warnings.filterwarnings('ignore')\n",
    "import matplotlib.pyplot as plt\n",
    "%matplotlib inline"
   ]
  },
  {
   "cell_type": "code",
   "execution_count": 2,
   "id": "b62b979e",
   "metadata": {},
   "outputs": [],
   "source": [
    "SEED = 42\n",
    "random.seed(SEED)\n",
    "np.random.seed(SEED)\n",
    "os.environ['PYTHONHASHSEED']=str(SEED)\n",
    "tf.random.set_seed(SEED)"
   ]
  },
  {
   "cell_type": "markdown",
   "id": "e0afe661",
   "metadata": {},
   "source": [
    "#### The data"
   ]
  },
  {
   "cell_type": "code",
   "execution_count": 3,
   "id": "bb26d93b",
   "metadata": {},
   "outputs": [
    {
     "data": {
      "text/html": [
       "<div>\n",
       "<style scoped>\n",
       "    .dataframe tbody tr th:only-of-type {\n",
       "        vertical-align: middle;\n",
       "    }\n",
       "\n",
       "    .dataframe tbody tr th {\n",
       "        vertical-align: top;\n",
       "    }\n",
       "\n",
       "    .dataframe thead th {\n",
       "        text-align: right;\n",
       "    }\n",
       "</style>\n",
       "<table border=\"1\" class=\"dataframe\">\n",
       "  <thead>\n",
       "    <tr style=\"text-align: right;\">\n",
       "      <th></th>\n",
       "      <th>id</th>\n",
       "      <th>lat</th>\n",
       "      <th>long</th>\n",
       "    </tr>\n",
       "  </thead>\n",
       "  <tbody>\n",
       "    <tr>\n",
       "      <th>0</th>\n",
       "      <td>930434</td>\n",
       "      <td>0.360209</td>\n",
       "      <td>32.610756</td>\n",
       "    </tr>\n",
       "    <tr>\n",
       "      <th>1</th>\n",
       "      <td>718028</td>\n",
       "      <td>0.307500</td>\n",
       "      <td>32.620600</td>\n",
       "    </tr>\n",
       "    <tr>\n",
       "      <th>2</th>\n",
       "      <td>912224</td>\n",
       "      <td>0.346460</td>\n",
       "      <td>32.703280</td>\n",
       "    </tr>\n",
       "    <tr>\n",
       "      <th>3</th>\n",
       "      <td>930426</td>\n",
       "      <td>0.365500</td>\n",
       "      <td>32.646800</td>\n",
       "    </tr>\n",
       "    <tr>\n",
       "      <th>4</th>\n",
       "      <td>930427</td>\n",
       "      <td>0.268900</td>\n",
       "      <td>32.588000</td>\n",
       "    </tr>\n",
       "  </tbody>\n",
       "</table>\n",
       "</div>"
      ],
      "text/plain": [
       "       id       lat       long\n",
       "0  930434  0.360209  32.610756\n",
       "1  718028  0.307500  32.620600\n",
       "2  912224  0.346460  32.703280\n",
       "3  930426  0.365500  32.646800\n",
       "4  930427  0.268900  32.588000"
      ]
     },
     "execution_count": 3,
     "metadata": {},
     "output_type": "execute_result"
    }
   ],
   "source": [
    "kampala_devices = pd.read_csv('../data/kampala_devices.csv', usecols=['lat', 'long', 'id'])\n",
    "kampala_devices.head()"
   ]
  },
  {
   "cell_type": "code",
   "execution_count": 4,
   "id": "c9c1406a",
   "metadata": {},
   "outputs": [
    {
     "data": {
      "text/html": [
       "<div>\n",
       "<style scoped>\n",
       "    .dataframe tbody tr th:only-of-type {\n",
       "        vertical-align: middle;\n",
       "    }\n",
       "\n",
       "    .dataframe tbody tr th {\n",
       "        vertical-align: top;\n",
       "    }\n",
       "\n",
       "    .dataframe thead th {\n",
       "        text-align: right;\n",
       "    }\n",
       "</style>\n",
       "<table border=\"1\" class=\"dataframe\">\n",
       "  <thead>\n",
       "    <tr style=\"text-align: right;\">\n",
       "      <th></th>\n",
       "      <th>site_name</th>\n",
       "      <th>latitude</th>\n",
       "      <th>longitude</th>\n",
       "      <th>city</th>\n",
       "      <th>timestamp</th>\n",
       "      <th>pm2_5_calibrated_value</th>\n",
       "      <th>pm2_5_raw_value</th>\n",
       "      <th>pm10_raw_value</th>\n",
       "      <th>pm10_calibrated_value</th>\n",
       "      <th>site_id</th>\n",
       "      <th>device_number</th>\n",
       "      <th>device_name</th>\n",
       "    </tr>\n",
       "  </thead>\n",
       "  <tbody>\n",
       "    <tr>\n",
       "      <th>0</th>\n",
       "      <td>Civic Centre, Kampala Central</td>\n",
       "      <td>0.317725</td>\n",
       "      <td>32.592509</td>\n",
       "      <td>Kampala</td>\n",
       "      <td>2021-09-01 00:00:00+00:00</td>\n",
       "      <td>NaN</td>\n",
       "      <td>NaN</td>\n",
       "      <td>NaN</td>\n",
       "      <td>NaN</td>\n",
       "      <td>60d058c8048305120d2d6145</td>\n",
       "      <td>689761</td>\n",
       "      <td>aq_26</td>\n",
       "    </tr>\n",
       "    <tr>\n",
       "      <th>1</th>\n",
       "      <td>Civic Centre, Kampala Central</td>\n",
       "      <td>0.317725</td>\n",
       "      <td>32.592509</td>\n",
       "      <td>Kampala</td>\n",
       "      <td>2021-09-01 01:00:00+00:00</td>\n",
       "      <td>NaN</td>\n",
       "      <td>NaN</td>\n",
       "      <td>NaN</td>\n",
       "      <td>NaN</td>\n",
       "      <td>60d058c8048305120d2d6145</td>\n",
       "      <td>689761</td>\n",
       "      <td>aq_26</td>\n",
       "    </tr>\n",
       "    <tr>\n",
       "      <th>2</th>\n",
       "      <td>Civic Centre, Kampala Central</td>\n",
       "      <td>0.317725</td>\n",
       "      <td>32.592509</td>\n",
       "      <td>Kampala</td>\n",
       "      <td>2021-09-01 02:00:00+00:00</td>\n",
       "      <td>NaN</td>\n",
       "      <td>NaN</td>\n",
       "      <td>NaN</td>\n",
       "      <td>NaN</td>\n",
       "      <td>60d058c8048305120d2d6145</td>\n",
       "      <td>689761</td>\n",
       "      <td>aq_26</td>\n",
       "    </tr>\n",
       "    <tr>\n",
       "      <th>3</th>\n",
       "      <td>Civic Centre, Kampala Central</td>\n",
       "      <td>0.317725</td>\n",
       "      <td>32.592509</td>\n",
       "      <td>Kampala</td>\n",
       "      <td>2021-09-01 03:00:00+00:00</td>\n",
       "      <td>NaN</td>\n",
       "      <td>NaN</td>\n",
       "      <td>NaN</td>\n",
       "      <td>NaN</td>\n",
       "      <td>60d058c8048305120d2d6145</td>\n",
       "      <td>689761</td>\n",
       "      <td>aq_26</td>\n",
       "    </tr>\n",
       "    <tr>\n",
       "      <th>4</th>\n",
       "      <td>Civic Centre, Kampala Central</td>\n",
       "      <td>0.317725</td>\n",
       "      <td>32.592509</td>\n",
       "      <td>Kampala</td>\n",
       "      <td>2021-09-01 04:00:00+00:00</td>\n",
       "      <td>NaN</td>\n",
       "      <td>NaN</td>\n",
       "      <td>NaN</td>\n",
       "      <td>NaN</td>\n",
       "      <td>60d058c8048305120d2d6145</td>\n",
       "      <td>689761</td>\n",
       "      <td>aq_26</td>\n",
       "    </tr>\n",
       "  </tbody>\n",
       "</table>\n",
       "</div>"
      ],
      "text/plain": [
       "                       site_name  latitude  longitude     city  \\\n",
       "0  Civic Centre, Kampala Central  0.317725  32.592509  Kampala   \n",
       "1  Civic Centre, Kampala Central  0.317725  32.592509  Kampala   \n",
       "2  Civic Centre, Kampala Central  0.317725  32.592509  Kampala   \n",
       "3  Civic Centre, Kampala Central  0.317725  32.592509  Kampala   \n",
       "4  Civic Centre, Kampala Central  0.317725  32.592509  Kampala   \n",
       "\n",
       "                  timestamp  pm2_5_calibrated_value  pm2_5_raw_value  \\\n",
       "0 2021-09-01 00:00:00+00:00                     NaN              NaN   \n",
       "1 2021-09-01 01:00:00+00:00                     NaN              NaN   \n",
       "2 2021-09-01 02:00:00+00:00                     NaN              NaN   \n",
       "3 2021-09-01 03:00:00+00:00                     NaN              NaN   \n",
       "4 2021-09-01 04:00:00+00:00                     NaN              NaN   \n",
       "\n",
       "   pm10_raw_value  pm10_calibrated_value                   site_id  \\\n",
       "0             NaN                    NaN  60d058c8048305120d2d6145   \n",
       "1             NaN                    NaN  60d058c8048305120d2d6145   \n",
       "2             NaN                    NaN  60d058c8048305120d2d6145   \n",
       "3             NaN                    NaN  60d058c8048305120d2d6145   \n",
       "4             NaN                    NaN  60d058c8048305120d2d6145   \n",
       "\n",
       "   device_number device_name  \n",
       "0         689761       aq_26  \n",
       "1         689761       aq_26  \n",
       "2         689761       aq_26  \n",
       "3         689761       aq_26  \n",
       "4         689761       aq_26  "
      ]
     },
     "execution_count": 4,
     "metadata": {},
     "output_type": "execute_result"
    }
   ],
   "source": [
    "kampala_df = pd.read_csv('../data/kampala_data.csv', parse_dates=['timestamp'])\n",
    "kampala_df.head()"
   ]
  },
  {
   "cell_type": "code",
   "execution_count": 5,
   "id": "07dea145",
   "metadata": {},
   "outputs": [
    {
     "data": {
      "text/html": [
       "<div>\n",
       "<style scoped>\n",
       "    .dataframe tbody tr th:only-of-type {\n",
       "        vertical-align: middle;\n",
       "    }\n",
       "\n",
       "    .dataframe tbody tr th {\n",
       "        vertical-align: top;\n",
       "    }\n",
       "\n",
       "    .dataframe thead th {\n",
       "        text-align: right;\n",
       "    }\n",
       "</style>\n",
       "<table border=\"1\" class=\"dataframe\">\n",
       "  <thead>\n",
       "    <tr style=\"text-align: right;\">\n",
       "      <th></th>\n",
       "      <th>time</th>\n",
       "      <th>latitude</th>\n",
       "      <th>longitude</th>\n",
       "      <th>pm2_5</th>\n",
       "      <th>device_number</th>\n",
       "    </tr>\n",
       "  </thead>\n",
       "  <tbody>\n",
       "    <tr>\n",
       "      <th>0</th>\n",
       "      <td>453031.0</td>\n",
       "      <td>0.356989</td>\n",
       "      <td>32.613888</td>\n",
       "      <td>10.5477</td>\n",
       "      <td>930434</td>\n",
       "    </tr>\n",
       "    <tr>\n",
       "      <th>1</th>\n",
       "      <td>453032.0</td>\n",
       "      <td>0.356989</td>\n",
       "      <td>32.613888</td>\n",
       "      <td>16.4250</td>\n",
       "      <td>930434</td>\n",
       "    </tr>\n",
       "    <tr>\n",
       "      <th>2</th>\n",
       "      <td>453033.0</td>\n",
       "      <td>0.356989</td>\n",
       "      <td>32.613888</td>\n",
       "      <td>17.7239</td>\n",
       "      <td>930434</td>\n",
       "    </tr>\n",
       "    <tr>\n",
       "      <th>3</th>\n",
       "      <td>453034.0</td>\n",
       "      <td>0.356989</td>\n",
       "      <td>32.613888</td>\n",
       "      <td>16.1533</td>\n",
       "      <td>930434</td>\n",
       "    </tr>\n",
       "    <tr>\n",
       "      <th>4</th>\n",
       "      <td>453035.0</td>\n",
       "      <td>0.356989</td>\n",
       "      <td>32.613888</td>\n",
       "      <td>18.0123</td>\n",
       "      <td>930434</td>\n",
       "    </tr>\n",
       "  </tbody>\n",
       "</table>\n",
       "</div>"
      ],
      "text/plain": [
       "       time  latitude  longitude    pm2_5  device_number\n",
       "0  453031.0  0.356989  32.613888  10.5477         930434\n",
       "1  453032.0  0.356989  32.613888  16.4250         930434\n",
       "2  453033.0  0.356989  32.613888  17.7239         930434\n",
       "3  453034.0  0.356989  32.613888  16.1533         930434\n",
       "4  453035.0  0.356989  32.613888  18.0123         930434"
      ]
     },
     "execution_count": 5,
     "metadata": {},
     "output_type": "execute_result"
    }
   ],
   "source": [
    "final_df = pd.DataFrame()\n",
    "# device_ids = []\n",
    "cols = ['timestamp', 'latitude', 'longitude', 'pm2_5_calibrated_value', 'device_number']\n",
    "# for i, device_id in enumerate(device_ids):\n",
    "for i, device_id in kampala_devices.id.iteritems():\n",
    "    device_df = utils.get_device_data(kampala_df, device_id, cols)\n",
    "#     if len(device_df)!=0:\n",
    "#         device_ids.append(device_id)\n",
    "    processed_df = utils.preprocessing(device_df)\n",
    "#     print(f'{device_id}: {len(processed_df)}')\n",
    "    final_df = pd.concat([final_df, processed_df])\n",
    "final_df.reset_index(drop=True, inplace=True)\n",
    "final_df.head()"
   ]
  },
  {
   "cell_type": "code",
   "execution_count": 6,
   "id": "5d8a2954",
   "metadata": {},
   "outputs": [
    {
     "data": {
      "text/plain": [
       "(35, 35, 34)"
      ]
     },
     "execution_count": 6,
     "metadata": {},
     "output_type": "execute_result"
    }
   ],
   "source": [
    "latitudes = final_df['latitude'].unique()\n",
    "longitudes = final_df['longitude'].unique()\n",
    "device_ids = final_df['device_number'].unique()\n",
    "len(latitudes), len(longitudes), len(device_ids)"
   ]
  },
  {
   "cell_type": "code",
   "execution_count": 7,
   "id": "3c69b6d3",
   "metadata": {},
   "outputs": [
    {
     "data": {
      "text/html": [
       "<div>\n",
       "<style scoped>\n",
       "    .dataframe tbody tr th:only-of-type {\n",
       "        vertical-align: middle;\n",
       "    }\n",
       "\n",
       "    .dataframe tbody tr th {\n",
       "        vertical-align: top;\n",
       "    }\n",
       "\n",
       "    .dataframe thead th {\n",
       "        text-align: right;\n",
       "    }\n",
       "</style>\n",
       "<table border=\"1\" class=\"dataframe\">\n",
       "  <thead>\n",
       "    <tr style=\"text-align: right;\">\n",
       "      <th></th>\n",
       "      <th>time</th>\n",
       "      <th>latitude</th>\n",
       "      <th>longitude</th>\n",
       "      <th>pm2_5</th>\n",
       "    </tr>\n",
       "  </thead>\n",
       "  <tbody>\n",
       "    <tr>\n",
       "      <th>0</th>\n",
       "      <td>453031.0</td>\n",
       "      <td>0.356989</td>\n",
       "      <td>32.613888</td>\n",
       "      <td>10.5477</td>\n",
       "    </tr>\n",
       "    <tr>\n",
       "      <th>1</th>\n",
       "      <td>453032.0</td>\n",
       "      <td>0.356989</td>\n",
       "      <td>32.613888</td>\n",
       "      <td>16.4250</td>\n",
       "    </tr>\n",
       "    <tr>\n",
       "      <th>2</th>\n",
       "      <td>453033.0</td>\n",
       "      <td>0.356989</td>\n",
       "      <td>32.613888</td>\n",
       "      <td>17.7239</td>\n",
       "    </tr>\n",
       "    <tr>\n",
       "      <th>3</th>\n",
       "      <td>453034.0</td>\n",
       "      <td>0.356989</td>\n",
       "      <td>32.613888</td>\n",
       "      <td>16.1533</td>\n",
       "    </tr>\n",
       "    <tr>\n",
       "      <th>4</th>\n",
       "      <td>453035.0</td>\n",
       "      <td>0.356989</td>\n",
       "      <td>32.613888</td>\n",
       "      <td>18.0123</td>\n",
       "    </tr>\n",
       "  </tbody>\n",
       "</table>\n",
       "</div>"
      ],
      "text/plain": [
       "       time  latitude  longitude    pm2_5\n",
       "0  453031.0  0.356989  32.613888  10.5477\n",
       "1  453032.0  0.356989  32.613888  16.4250\n",
       "2  453033.0  0.356989  32.613888  17.7239\n",
       "3  453034.0  0.356989  32.613888  16.1533\n",
       "4  453035.0  0.356989  32.613888  18.0123"
      ]
     },
     "execution_count": 7,
     "metadata": {},
     "output_type": "execute_result"
    }
   ],
   "source": [
    "final_df = final_df.drop(['device_number'], axis=1)\n",
    "final_df.head()"
   ]
  },
  {
   "cell_type": "markdown",
   "id": "0593969e",
   "metadata": {},
   "source": [
    "#### Model training and validation"
   ]
  },
  {
   "cell_type": "code",
   "execution_count": 8,
   "id": "cbae94ea",
   "metadata": {},
   "outputs": [],
   "source": [
    "def ffnn(X_train, y_train, epochs=1000, optimizer='RMSProp', dropout=0.2):\n",
    "    model = tf.keras.Sequential() \n",
    "    model.add(Input(shape=(X_train.shape[1],), name='Input-Layer')) \n",
    "#     model.add(Dropout(rate=dropout))\n",
    "    model.add(Dense(128, activation='relu', name='Hidden-Layer1'))\n",
    "#     model.add(Dropout(rate=dropout))\n",
    "    model.add(Dense(32, activation='relu', name='Hidden-Layer2'))\n",
    "#     model.add(Dropout(rate=dropout))\n",
    "    model.add(Dense(1, activation='linear', name='Output-Layer')) \n",
    "\n",
    "    model.compile(optimizer=optimizer, # default='rmsprop', an algorithm to be used in backpropagation\n",
    "                  loss=tf.keras.losses.MeanSquaredError(),\n",
    "                 )\n",
    "    model.fit(X_train, \n",
    "          y_train,\n",
    "          batch_size=32,\n",
    "          epochs=epochs, # default=1, Number of epochs to train the model\n",
    "          callbacks=None,\n",
    "          validation_split=0.2, \n",
    "         )\n",
    "    return model"
   ]
  },
  {
   "cell_type": "code",
   "execution_count": 9,
   "id": "484a957e",
   "metadata": {},
   "outputs": [],
   "source": [
    "# def scale_data(X):\n",
    "#     scaler = MinMaxScaler()\n",
    "#     X_scaled = X.copy()\n",
    "#     X_scaled[:, 0] = scaler.fit_transform(X[:, 0].reshape(-1, 1)).flatten()\n",
    "#     return X_scaled"
   ]
  },
  {
   "cell_type": "markdown",
   "id": "a2795c0b",
   "metadata": {},
   "source": [
    "#### delete from here"
   ]
  },
  {
   "cell_type": "code",
   "execution_count": 10,
   "id": "75b246fa",
   "metadata": {},
   "outputs": [],
   "source": [
    "# idx = 0\n",
    "# device_indices = final_df[final_df.latitude==latitudes[idx]].index\n",
    "# device_df = jinja_df[jinja_df.device_number == device_ids[idx]]\n",
    "# assert(len(device_indices) == len(device_df)-device_df.pm2_5_calibrated_value.isna().sum())\n",
    "# test_df = final_df.loc[device_indices]\n",
    "# test_df.head()"
   ]
  },
  {
   "cell_type": "code",
   "execution_count": 11,
   "id": "113bbdb3",
   "metadata": {},
   "outputs": [],
   "source": [
    "# train_df = pd.concat([final_df, test_df]).drop_duplicates(keep=False)\n",
    "# assert(len(train_df.longitude.unique()) == len(longitudes)-1)\n",
    "# assert len(final_df) == len(test_df) + len(train_df)\n",
    "# train_df.head()"
   ]
  },
  {
   "cell_type": "code",
   "execution_count": 12,
   "id": "1c4dae69",
   "metadata": {},
   "outputs": [],
   "source": [
    "# X_train = train_df.iloc[:, 0:-1]\n",
    "# y_train = train_df.iloc[:, -1]\n",
    "# X_train, y_train = np.array(X_train), np.array(y_train)#.reshape(-1, 1)\n",
    "\n",
    "# X_test = test_df.iloc[:, 0:-1]\n",
    "# y_test = test_df.iloc[:, -1]\n",
    "# X_test, y_test = np.array(X_test), np.array(y_test)#.reshape(-1, 1)\n",
    "# X_train.shape, y_train.shape, X_test.shape, y_test.shape"
   ]
  },
  {
   "cell_type": "code",
   "execution_count": 13,
   "id": "7b81083e",
   "metadata": {},
   "outputs": [],
   "source": [
    "# X_train[0]"
   ]
  },
  {
   "cell_type": "code",
   "execution_count": 14,
   "id": "e98e539d",
   "metadata": {},
   "outputs": [],
   "source": [
    "# X_train_scaled = scale_data(X_train)\n",
    "# X_train_scaled"
   ]
  },
  {
   "cell_type": "code",
   "execution_count": 15,
   "id": "5c01784e",
   "metadata": {},
   "outputs": [],
   "source": [
    "# model = ffnn(X_train, y_train, 500, 'RMSProp')"
   ]
  },
  {
   "cell_type": "code",
   "execution_count": 16,
   "id": "38805ee0",
   "metadata": {},
   "outputs": [],
   "source": [
    "# y_pred = model.predict(X_test) \n",
    "# y_pred.shape, y_test.reshape(-1, 1).shape"
   ]
  },
  {
   "cell_type": "code",
   "execution_count": 17,
   "id": "f46a83a5",
   "metadata": {},
   "outputs": [],
   "source": [
    "# np.min(y_pred), np.mean(y_pred), np.max(y_pred)"
   ]
  },
  {
   "cell_type": "code",
   "execution_count": 18,
   "id": "a0aaefd1",
   "metadata": {},
   "outputs": [],
   "source": [
    "# mean_squared_error(y_test, y_pred)"
   ]
  },
  {
   "cell_type": "code",
   "execution_count": 19,
   "id": "94b5965e",
   "metadata": {},
   "outputs": [],
   "source": [
    "# y_train_pred = model.predict(X_train)\n",
    "# mean_squared_error(y_train, y_train_pred)"
   ]
  },
  {
   "cell_type": "markdown",
   "id": "03798db5",
   "metadata": {},
   "source": [
    "#### end here"
   ]
  },
  {
   "cell_type": "code",
   "execution_count": 20,
   "id": "4d0392e5",
   "metadata": {},
   "outputs": [],
   "source": [
    "def cross_validation(final_df, idx):\n",
    "    device_indices = final_df[final_df.latitude==latitudes[idx]].index\n",
    "    device_df = kampala_df[kampala_df.device_number == device_ids[idx]]\n",
    "#     assert(len(device_indices) == len(device_df)-device_df.pm2_5_calibrated_value.isna().sum())\n",
    "    \n",
    "    test_df = final_df.loc[device_indices]\n",
    "#     assert(len(test_df.longitude.unique()) == 1)\n",
    "    \n",
    "    train_df = pd.concat([final_df, test_df]).drop_duplicates(keep=False)\n",
    "#     assert(len(train_df.longitude.unique()) == len(longitudes)-1)\n",
    "#     assert len(final_df) == len(test_df) + len(train_df)\n",
    "    \n",
    "    X_train = train_df.iloc[:, 0:-1]\n",
    "    y_train = train_df.iloc[:, -1]\n",
    "    X_train, y_train = np.array(X_train), np.array(y_train)#.reshape(-1, 1)\n",
    "#     X_train_scaled = scale_data(X_train)\n",
    "    \n",
    "    X_test = test_df.iloc[:, 0:-1]\n",
    "    y_test = test_df.iloc[:, -1]\n",
    "    X_test, y_test = np.array(X_test), np.array(y_test)#.reshape(-1, 1)\n",
    "#     X_test_scaled = scale_data(X_test)\n",
    "    \n",
    "    model = ffnn(X_train, y_train)#, optimizer='Adam', dropout=0.8)\n",
    "    y_pred = model.predict(X_test) \n",
    "    \n",
    "    rmse = sqrt(mean_squared_error(y_test, y_pred))\n",
    "    mape = mean_absolute_percentage_error(y_test, y_pred)\n",
    "    return rmse, mape"
   ]
  },
  {
   "cell_type": "code",
   "execution_count": 21,
   "id": "945fe7a8",
   "metadata": {},
   "outputs": [
    {
     "name": "stdout",
     "output_type": "stream",
     "text": [
      "Epoch 1/10\n"
     ]
    },
    {
     "name": "stderr",
     "output_type": "stream",
     "text": [
      "2023-07-26 18:24:41.161482: E tensorflow/compiler/xla/stream_executor/cuda/cuda_driver.cc:267] failed call to cuInit: CUDA_ERROR_NO_DEVICE: no CUDA-capable device is detected\n",
      "2023-07-26 18:24:41.161512: I tensorflow/compiler/xla/stream_executor/cuda/cuda_diagnostics.cc:169] retrieving CUDA diagnostic information for host: PL1207-PRO.paris.inria.fr\n",
      "2023-07-26 18:24:41.161515: I tensorflow/compiler/xla/stream_executor/cuda/cuda_diagnostics.cc:176] hostname: PL1207-PRO.paris.inria.fr\n",
      "2023-07-26 18:24:41.161609: I tensorflow/compiler/xla/stream_executor/cuda/cuda_diagnostics.cc:200] libcuda reported version is: 525.125.6\n",
      "2023-07-26 18:24:41.161630: I tensorflow/compiler/xla/stream_executor/cuda/cuda_diagnostics.cc:204] kernel reported version is: NOT_FOUND: could not find kernel module information in driver version file contents: \"NVRM version: NVIDIA UNIX Open Kernel Module for x86_64  525.125.06  Release Build  (dvs-builder@U16-A23-14-1)  Tue May 30 05:12:48 UTC 2023\n",
      "GCC version:  gcc version 9.4.0 (Ubuntu 9.4.0-1ubuntu1~20.04.1) \n",
      "\"\n",
      "2023-07-26 18:24:41.162831: I tensorflow/core/platform/cpu_feature_guard.cc:193] This TensorFlow binary is optimized with oneAPI Deep Neural Network Library (oneDNN) to use the following CPU instructions in performance-critical operations:  AVX2 AVX_VNNI FMA\n",
      "To enable them in other operations, rebuild TensorFlow with the appropriate compiler flags.\n"
     ]
    },
    {
     "name": "stdout",
     "output_type": "stream",
     "text": [
      "1155/1155 [==============================] - 1s 985us/step - loss: 28567030.0000 - val_loss: 673.7628\n",
      "Epoch 2/10\n",
      "1155/1155 [==============================] - 1s 995us/step - loss: 6459.3198 - val_loss: 631.9659\n",
      "Epoch 3/10\n",
      "1155/1155 [==============================] - 1s 954us/step - loss: 11589.7656 - val_loss: 1578.1862\n",
      "Epoch 4/10\n",
      "1155/1155 [==============================] - 1s 935us/step - loss: 15782.7441 - val_loss: 1516.3625\n",
      "Epoch 5/10\n",
      "1155/1155 [==============================] - 1s 859us/step - loss: 5738.1025 - val_loss: 1453.4722\n",
      "Epoch 6/10\n",
      "1155/1155 [==============================] - 1s 925us/step - loss: 2475.5850 - val_loss: 1390.3324\n",
      "Epoch 7/10\n",
      "1155/1155 [==============================] - 1s 959us/step - loss: 2390.8831 - val_loss: 1329.6047\n",
      "Epoch 8/10\n",
      "1155/1155 [==============================] - 1s 869us/step - loss: 3017.8867 - val_loss: 1272.7505\n",
      "Epoch 9/10\n",
      "1155/1155 [==============================] - 1s 1ms/step - loss: 5000.4351 - val_loss: 1218.4510\n",
      "Epoch 10/10\n",
      "1155/1155 [==============================] - 1s 833us/step - loss: 1214.4469 - val_loss: 1164.2499\n",
      "61/61 [==============================] - 0s 498us/step\n",
      "Location 0 successful\n"
     ]
    },
    {
     "data": {
      "text/plain": [
       "(24.61759112885807, 0.560078022713194)"
      ]
     },
     "execution_count": 21,
     "metadata": {},
     "output_type": "execute_result"
    }
   ],
   "source": [
    "rmse_list, mape_list = [], []\n",
    "for i in range(len(latitudes)):\n",
    "    try:\n",
    "        rmse, mape = cross_validation(final_df, i)\n",
    "        rmse_list.append(rmse)\n",
    "        mape_list.append(mape)\n",
    "        print(f'Location {i} successful')\n",
    "    except Exception as e:\n",
    "        print(e)\n",
    "        print(f'Location {i} failed')\n",
    "#         break\n",
    "\n",
    "mean_rmse = np.mean(rmse_list)\n",
    "mean_mape = np.mean(mape_list)\n",
    "mean_rmse, mean_mape"
   ]
  },
  {
   "cell_type": "code",
   "execution_count": 22,
   "id": "1a9f77fa",
   "metadata": {},
   "outputs": [
    {
     "data": {
      "text/plain": [
       "[24.61759112885807]"
      ]
     },
     "execution_count": 22,
     "metadata": {},
     "output_type": "execute_result"
    }
   ],
   "source": [
    "rmse_list"
   ]
  },
  {
   "cell_type": "code",
   "execution_count": 23,
   "id": "787e7a6e",
   "metadata": {},
   "outputs": [
    {
     "data": {
      "text/plain": [
       "[0.560078022713194]"
      ]
     },
     "execution_count": 23,
     "metadata": {},
     "output_type": "execute_result"
    }
   ],
   "source": [
    "mape_list"
   ]
  },
  {
   "cell_type": "code",
   "execution_count": null,
   "id": "f48a90d6",
   "metadata": {},
   "outputs": [],
   "source": []
  }
 ],
 "metadata": {
  "kernelspec": {
   "display_name": "Python 3 (ipykernel)",
   "language": "python",
   "name": "python3"
  },
  "language_info": {
   "codemirror_mode": {
    "name": "ipython",
    "version": 3
   },
   "file_extension": ".py",
   "mimetype": "text/x-python",
   "name": "python",
   "nbconvert_exporter": "python",
   "pygments_lexer": "ipython3",
   "version": "3.7.4"
  }
 },
 "nbformat": 4,
 "nbformat_minor": 5
}
