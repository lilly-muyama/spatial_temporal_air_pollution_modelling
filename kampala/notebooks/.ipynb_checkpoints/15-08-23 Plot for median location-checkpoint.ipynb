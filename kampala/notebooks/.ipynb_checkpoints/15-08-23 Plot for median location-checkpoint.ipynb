{
 "cells": [
  {
   "cell_type": "code",
   "execution_count": 2,
   "id": "180f1b4e",
   "metadata": {},
   "outputs": [],
   "source": [
    "import pandas as pd\n",
    "import numpy as np\n",
    "import seaborn as sns\n",
    "import plotly.express\n",
    "import matplotlib.pyplot as plt\n",
    "%matplotlib inline"
   ]
  },
  {
   "cell_type": "code",
   "execution_count": 3,
   "id": "d3dbf38d",
   "metadata": {},
   "outputs": [],
   "source": [
    "rmse_list = [15.840293402303036,\n",
    " 12.411611340509312,\n",
    " 18.184540967174655,\n",
    " 17.246424589458503,\n",
    " 23.29413136214671,\n",
    " 14.3352798724628,\n",
    " 11.51427085243903,\n",
    " 14.055738981446122,\n",
    " 29.627608547279888,\n",
    " 12.533757449975477,\n",
    " 12.006668690292585,\n",
    " 16.132992284695543,\n",
    " 10.541216223291801,\n",
    " 14.04221503246313,\n",
    " 16.10923939005971,\n",
    " 18.970083338736092,\n",
    " 18.912733815568437,\n",
    " 40.319705982001615,\n",
    " 16.71238018803243,\n",
    " 18.63449134732769,\n",
    " 21.118661355341246,\n",
    " 36.943414699273085,\n",
    " 13.328384545900182,\n",
    " 22.495519849733693,\n",
    " 22.024865682091335,\n",
    " 11.960482018298446,\n",
    " 13.32086427261953,\n",
    " 17.54651907273299,\n",
    " 20.56825776459036,\n",
    " 11.41341888429773,\n",
    " 31.139211193467624,\n",
    " 13.86719407442642,\n",
    " 21.667059274847514,\n",
    " 13.775508348321841]"
   ]
  },
  {
   "cell_type": "code",
   "execution_count": 4,
   "id": "8e5b9239",
   "metadata": {},
   "outputs": [
    {
     "data": {
      "text/plain": [
       "18.184540967174655"
      ]
     },
     "execution_count": 4,
     "metadata": {},
     "output_type": "execute_result"
    }
   ],
   "source": [
    "closest_to_mean = min(rmse_list, key=lambda x:abs(x-np.mean(rmse_list)))\n",
    "closest_to_mean"
   ]
  },
  {
   "cell_type": "code",
   "execution_count": 5,
   "id": "f33ac9bf",
   "metadata": {},
   "outputs": [
    {
     "data": {
      "text/plain": [
       "16.132992284695543"
      ]
     },
     "execution_count": 5,
     "metadata": {},
     "output_type": "execute_result"
    }
   ],
   "source": [
    "closest_to_median = min(rmse_list, key=lambda x:abs(x-np.median(rmse_list)))\n",
    "closest_to_median"
   ]
  },
  {
   "cell_type": "markdown",
   "id": "9c9fc625",
   "metadata": {},
   "source": [
    "#### Location details"
   ]
  },
  {
   "cell_type": "code",
   "execution_count": 9,
   "id": "94914c86",
   "metadata": {},
   "outputs": [
    {
     "data": {
      "text/html": [
       "<div>\n",
       "<style scoped>\n",
       "    .dataframe tbody tr th:only-of-type {\n",
       "        vertical-align: middle;\n",
       "    }\n",
       "\n",
       "    .dataframe tbody tr th {\n",
       "        vertical-align: top;\n",
       "    }\n",
       "\n",
       "    .dataframe thead th {\n",
       "        text-align: right;\n",
       "    }\n",
       "</style>\n",
       "<table border=\"1\" class=\"dataframe\">\n",
       "  <thead>\n",
       "    <tr style=\"text-align: right;\">\n",
       "      <th></th>\n",
       "      <th>location</th>\n",
       "      <th>id</th>\n",
       "      <th>lat</th>\n",
       "      <th>long</th>\n",
       "    </tr>\n",
       "  </thead>\n",
       "  <tbody>\n",
       "    <tr>\n",
       "      <th>0</th>\n",
       "      <td>Ntinda</td>\n",
       "      <td>930434</td>\n",
       "      <td>0.360209</td>\n",
       "      <td>32.610756</td>\n",
       "    </tr>\n",
       "    <tr>\n",
       "      <th>1</th>\n",
       "      <td>Bugolobi</td>\n",
       "      <td>718028</td>\n",
       "      <td>0.307500</td>\n",
       "      <td>32.620600</td>\n",
       "    </tr>\n",
       "    <tr>\n",
       "      <th>2</th>\n",
       "      <td>Nantabulirwa</td>\n",
       "      <td>912224</td>\n",
       "      <td>0.346460</td>\n",
       "      <td>32.703280</td>\n",
       "    </tr>\n",
       "    <tr>\n",
       "      <th>3</th>\n",
       "      <td>Kireka</td>\n",
       "      <td>930426</td>\n",
       "      <td>0.365500</td>\n",
       "      <td>32.646800</td>\n",
       "    </tr>\n",
       "    <tr>\n",
       "      <th>4</th>\n",
       "      <td>Luwafu</td>\n",
       "      <td>930427</td>\n",
       "      <td>0.268900</td>\n",
       "      <td>32.588000</td>\n",
       "    </tr>\n",
       "  </tbody>\n",
       "</table>\n",
       "</div>"
      ],
      "text/plain": [
       "       location      id       lat       long\n",
       "0        Ntinda  930434  0.360209  32.610756\n",
       "1      Bugolobi  718028  0.307500  32.620600\n",
       "2  Nantabulirwa  912224  0.346460  32.703280\n",
       "3        Kireka  930426  0.365500  32.646800\n",
       "4        Luwafu  930427  0.268900  32.588000"
      ]
     },
     "execution_count": 9,
     "metadata": {},
     "output_type": "execute_result"
    }
   ],
   "source": [
    "kampala_devices = pd.read_csv('../data/kampala_devices.csv', usecols=['location', 'lat', 'long', 'id'])\n",
    "kampala_devices.head()"
   ]
  },
  {
   "cell_type": "code",
   "execution_count": 10,
   "id": "b1911115",
   "metadata": {},
   "outputs": [
    {
     "data": {
      "text/plain": [
       "37"
      ]
     },
     "execution_count": 10,
     "metadata": {},
     "output_type": "execute_result"
    }
   ],
   "source": [
    "len(kampala_devices)"
   ]
  },
  {
   "cell_type": "code",
   "execution_count": null,
   "id": "cb82f59c",
   "metadata": {},
   "outputs": [],
   "source": [
    "rf_results_mean_std_dict = {1: [99.89714285714287, 0.013248026422134872],\n",
    "                            0.5: [99.80999999999999, 0.023299294900430163],\n",
    "                            0.1: [98.85285714285715, 0.19921273625377012],\n",
    "                            0.05: [98.00428571428571, 0.12573051843250446],\n",
    "                            0.01: [93.31285714285714, 1.14050114298183]}\n",
    "\n",
    "sizes = ['n', '0.5n', '0.1n', '0.05n', '0.01n']\n",
    "variable_means_dueling_dqn_pr = [96.309, 94.768, 87.824, 92.851, 87.466]\n",
    "# variable_medians_dueling_dqn_pr = [97.186, 94.714, 93.821, 93.486, 87.350]\n",
    "variable_stds_dueling_dqn_pr = [1.449, 2.682, 14.433, 5.652, 1.657]\n",
    "\n",
    "variable_means_dueling_ddqn_pr = [96.523, 94.654, 93.283, 93.024, 84.876]\n",
    "variable_stds_dueling_ddqn_pr = [0.760, 1.370, 3.328, 6.556, 3.604]\n",
    "\n",
    "variable_means_rf = [i[0] for i in rf_results_mean_std_dict.values()]\n",
    "variable_stds_rf = [i[1] for i in rf_results_mean_std_dict.values()]\n",
    "\n",
    "lower_bounds_dueling_dqn_pr = [variable_means_dueling_dqn_pr[i]-1.96*variable_stds_dueling_dqn_pr[i] for i in range(len(variable_means_dueling_dqn_pr))]\n",
    "upper_bounds_dueling_dqn_pr = [variable_means_dueling_dqn_pr[i]+1.96*variable_stds_dueling_dqn_pr[i] for i in range(len(variable_means_dueling_dqn_pr))]\n",
    "\n",
    "lower_bounds_dueling_ddqn_pr = [variable_means_dueling_ddqn_pr[i]-1.96*variable_stds_dueling_ddqn_pr[i] for i in range(len(variable_means_dueling_ddqn_pr))]\n",
    "upper_bounds_dueling_ddqn_pr = [variable_means_dueling_ddqn_pr[i]+1.96*variable_stds_dueling_ddqn_pr[i] for i in range(len(variable_means_dueling_ddqn_pr))]\n",
    "\n",
    "lower_bounds_rf = [variable_means_rf[i]-1.96*variable_stds_rf[i] for i in range(len(variable_means_rf))]\n",
    "upper_bounds_rf = [variable_means_rf[i]+1.96*variable_stds_rf[i] for i in range(len(variable_means_rf))]\n",
    "\n",
    "\n",
    "\n",
    "plt.figure(figsize=(8, 5))\n",
    "#plt.title('Varied Training Sizes: $\\it{n=56000}$')\n",
    "text_to_italic = 'n = 50400'\n",
    "plt.title('Varying Training Size; $\\it{n=50{,}400}$', fontsize=18)\n",
    "plt.xlabel('Training set size', fontsize=16)\n",
    "plt.ylabel('Accuracy', fontsize=16)\n",
    "plt.ylim(0, 100)\n",
    "plt.xticks(fontsize=14)\n",
    "plt.yticks(fontsize=14)\n",
    "#plt.title('$\\Gamma + \\mathit{\\Gamma}$', fontsize=40)\n",
    "# plt.plot(sizes, variable_means_dueling_dqn_pr, linewidth=2.5, label='Dueling DQN-PER', color='blue')\n",
    "# plt.plot(sizes, variable_medians_6m, '--', linewidth=2.5, label='Dueling DQN-PER Median', color='green')\n",
    "plt.plot(sizes, variable_means_dueling_ddqn_pr, linewidth=2.5, label= 'Dueling DDQN-PER', color='blue')\n",
    "plt.plot(sizes, variable_means_rf, linewidth=2.5, label='RF', color='red')\n",
    "# plt.fill_between(sizes, lower_bounds_dueling_dqn_pr, upper_bounds_dueling_dqn_pr, alpha=0.2, color='blue')\n",
    "plt.fill_between(sizes, lower_bounds_dueling_ddqn_pr, upper_bounds_dueling_ddqn_pr, alpha=0.2, color='blue')\n",
    "plt.fill_between(sizes, lower_bounds_rf, upper_bounds_rf, alpha=0.2, color='red')\n",
    "plt.legend(loc='lower left', fontsize='xx-large')\n",
    "plt.savefig(f'../../../anemia_ml4hc/plots/varying_training_size_ltst.png')\n",
    "plt.show()"
   ]
  },
  {
   "cell_type": "code",
   "execution_count": null,
   "id": "c7049dfd",
   "metadata": {},
   "outputs": [],
   "source": []
  }
 ],
 "metadata": {
  "kernelspec": {
   "display_name": "Python 3 (ipykernel)",
   "language": "python",
   "name": "python3"
  },
  "language_info": {
   "codemirror_mode": {
    "name": "ipython",
    "version": 3
   },
   "file_extension": ".py",
   "mimetype": "text/x-python",
   "name": "python",
   "nbconvert_exporter": "python",
   "pygments_lexer": "ipython3",
   "version": "3.7.4"
  }
 },
 "nbformat": 4,
 "nbformat_minor": 5
}
