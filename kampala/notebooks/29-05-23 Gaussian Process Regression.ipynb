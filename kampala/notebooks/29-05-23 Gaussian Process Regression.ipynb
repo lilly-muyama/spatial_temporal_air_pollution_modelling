{
 "cells": [
  {
   "cell_type": "code",
   "execution_count": 1,
   "id": "29e5c435",
   "metadata": {},
   "outputs": [
    {
     "name": "stderr",
     "output_type": "stream",
     "text": [
      "2023-08-15 02:31:06.845788: I tensorflow/core/platform/cpu_feature_guard.cc:193] This TensorFlow binary is optimized with oneAPI Deep Neural Network Library (oneDNN) to use the following CPU instructions in performance-critical operations:  AVX2 AVX_VNNI FMA\n",
      "To enable them in other operations, rebuild TensorFlow with the appropriate compiler flags.\n",
      "2023-08-15 02:31:06.909879: I tensorflow/core/util/port.cc:104] oneDNN custom operations are on. You may see slightly different numerical results due to floating-point round-off errors from different computation orders. To turn them off, set the environment variable `TF_ENABLE_ONEDNN_OPTS=0`.\n",
      "2023-08-15 02:31:06.911907: W tensorflow/compiler/xla/stream_executor/platform/default/dso_loader.cc:64] Could not load dynamic library 'libcudart.so.11.0'; dlerror: libcudart.so.11.0: cannot open shared object file: No such file or directory\n",
      "2023-08-15 02:31:06.911916: I tensorflow/compiler/xla/stream_executor/cuda/cudart_stub.cc:29] Ignore above cudart dlerror if you do not have a GPU set up on your machine.\n",
      "2023-08-15 02:31:07.233486: W tensorflow/compiler/xla/stream_executor/platform/default/dso_loader.cc:64] Could not load dynamic library 'libnvinfer.so.7'; dlerror: libnvinfer.so.7: cannot open shared object file: No such file or directory\n",
      "2023-08-15 02:31:07.233513: W tensorflow/compiler/xla/stream_executor/platform/default/dso_loader.cc:64] Could not load dynamic library 'libnvinfer_plugin.so.7'; dlerror: libnvinfer_plugin.so.7: cannot open shared object file: No such file or directory\n",
      "2023-08-15 02:31:07.233515: W tensorflow/compiler/tf2tensorrt/utils/py_utils.cc:38] TF-TRT Warning: Cannot dlopen some TensorRT libraries. If you would like to use Nvidia GPU with TensorRT, please make sure the missing libraries mentioned above are installed properly.\n"
     ]
    }
   ],
   "source": [
    "import pandas as pd\n",
    "import numpy as np\n",
    "import sys\n",
    "from math import sqrt\n",
    "sys.path.append('../..')\n",
    "from modules import utils\n",
    "import gpflow\n",
    "from gpflow import set_trainable\n",
    "from sklearn.metrics import mean_squared_error, mean_absolute_percentage_error\n",
    "import warnings\n",
    "import tensorflow as tf\n",
    "warnings.filterwarnings('ignore')\n",
    "import matplotlib.pyplot as plt\n",
    "%matplotlib inline"
   ]
  },
  {
   "cell_type": "code",
   "execution_count": 2,
   "id": "3788d7a0",
   "metadata": {},
   "outputs": [],
   "source": [
    "SEED = 42\n",
    "# random.seed(SEED)\n",
    "np.random.seed(SEED)\n",
    "# os.environ['PYTHONHASHSEED']=str(SEED)\n",
    "tf.random.set_seed(SEED)\n",
    "# gpflow.config.set_default_seed(SEED)"
   ]
  },
  {
   "cell_type": "code",
   "execution_count": 3,
   "id": "4044e37a",
   "metadata": {},
   "outputs": [
    {
     "data": {
      "text/html": [
       "<div>\n",
       "<style scoped>\n",
       "    .dataframe tbody tr th:only-of-type {\n",
       "        vertical-align: middle;\n",
       "    }\n",
       "\n",
       "    .dataframe tbody tr th {\n",
       "        vertical-align: top;\n",
       "    }\n",
       "\n",
       "    .dataframe thead th {\n",
       "        text-align: right;\n",
       "    }\n",
       "</style>\n",
       "<table border=\"1\" class=\"dataframe\">\n",
       "  <thead>\n",
       "    <tr style=\"text-align: right;\">\n",
       "      <th></th>\n",
       "      <th>id</th>\n",
       "      <th>lat</th>\n",
       "      <th>long</th>\n",
       "    </tr>\n",
       "  </thead>\n",
       "  <tbody>\n",
       "    <tr>\n",
       "      <th>0</th>\n",
       "      <td>930434</td>\n",
       "      <td>0.360209</td>\n",
       "      <td>32.610756</td>\n",
       "    </tr>\n",
       "    <tr>\n",
       "      <th>1</th>\n",
       "      <td>718028</td>\n",
       "      <td>0.307500</td>\n",
       "      <td>32.620600</td>\n",
       "    </tr>\n",
       "    <tr>\n",
       "      <th>2</th>\n",
       "      <td>912224</td>\n",
       "      <td>0.346460</td>\n",
       "      <td>32.703280</td>\n",
       "    </tr>\n",
       "    <tr>\n",
       "      <th>3</th>\n",
       "      <td>930426</td>\n",
       "      <td>0.365500</td>\n",
       "      <td>32.646800</td>\n",
       "    </tr>\n",
       "    <tr>\n",
       "      <th>4</th>\n",
       "      <td>930427</td>\n",
       "      <td>0.268900</td>\n",
       "      <td>32.588000</td>\n",
       "    </tr>\n",
       "  </tbody>\n",
       "</table>\n",
       "</div>"
      ],
      "text/plain": [
       "       id       lat       long\n",
       "0  930434  0.360209  32.610756\n",
       "1  718028  0.307500  32.620600\n",
       "2  912224  0.346460  32.703280\n",
       "3  930426  0.365500  32.646800\n",
       "4  930427  0.268900  32.588000"
      ]
     },
     "execution_count": 3,
     "metadata": {},
     "output_type": "execute_result"
    }
   ],
   "source": [
    "kampala_devices = pd.read_csv('../data/kampala_devices.csv', usecols=['lat', 'long', 'id'])\n",
    "kampala_devices.head()"
   ]
  },
  {
   "cell_type": "code",
   "execution_count": 4,
   "id": "0daaeb81",
   "metadata": {},
   "outputs": [
    {
     "data": {
      "text/plain": [
       "37"
      ]
     },
     "execution_count": 4,
     "metadata": {},
     "output_type": "execute_result"
    }
   ],
   "source": [
    "len(kampala_devices)"
   ]
  },
  {
   "cell_type": "code",
   "execution_count": 5,
   "id": "0370166c",
   "metadata": {},
   "outputs": [
    {
     "data": {
      "text/html": [
       "<div>\n",
       "<style scoped>\n",
       "    .dataframe tbody tr th:only-of-type {\n",
       "        vertical-align: middle;\n",
       "    }\n",
       "\n",
       "    .dataframe tbody tr th {\n",
       "        vertical-align: top;\n",
       "    }\n",
       "\n",
       "    .dataframe thead th {\n",
       "        text-align: right;\n",
       "    }\n",
       "</style>\n",
       "<table border=\"1\" class=\"dataframe\">\n",
       "  <thead>\n",
       "    <tr style=\"text-align: right;\">\n",
       "      <th></th>\n",
       "      <th>timestamp</th>\n",
       "      <th>pm2_5_calibrated_value</th>\n",
       "      <th>pm2_5_raw_value</th>\n",
       "      <th>pm10_raw_value</th>\n",
       "      <th>pm10_calibrated_value</th>\n",
       "      <th>site_id</th>\n",
       "      <th>device_number</th>\n",
       "      <th>site_name</th>\n",
       "      <th>latitude</th>\n",
       "      <th>longitude</th>\n",
       "      <th>city</th>\n",
       "      <th>temperature</th>\n",
       "      <th>humidity</th>\n",
       "      <th>wind_speed</th>\n",
       "      <th>precipitation</th>\n",
       "      <th>wind_direction</th>\n",
       "      <th>wind_gusts</th>\n",
       "    </tr>\n",
       "  </thead>\n",
       "  <tbody>\n",
       "    <tr>\n",
       "      <th>0</th>\n",
       "      <td>2021-09-01 00:00:00+00:00</td>\n",
       "      <td>33.22</td>\n",
       "      <td>55.88</td>\n",
       "      <td>75.45</td>\n",
       "      <td>NaN</td>\n",
       "      <td>60d2affe7e9018a1a8d38c10</td>\n",
       "      <td>0</td>\n",
       "      <td>Luzira, Nakawa</td>\n",
       "      <td>0.299092</td>\n",
       "      <td>32.647930</td>\n",
       "      <td>Kampala</td>\n",
       "      <td>NaN</td>\n",
       "      <td>NaN</td>\n",
       "      <td>NaN</td>\n",
       "      <td>NaN</td>\n",
       "      <td>NaN</td>\n",
       "      <td>NaN</td>\n",
       "    </tr>\n",
       "    <tr>\n",
       "      <th>1</th>\n",
       "      <td>2021-09-01 00:00:00+00:00</td>\n",
       "      <td>33.35</td>\n",
       "      <td>72.55</td>\n",
       "      <td>87.86</td>\n",
       "      <td>NaN</td>\n",
       "      <td>60d2b0317e9018a1a8d38c11</td>\n",
       "      <td>0</td>\n",
       "      <td>Rubaga</td>\n",
       "      <td>0.343729</td>\n",
       "      <td>32.551314</td>\n",
       "      <td>Kampala</td>\n",
       "      <td>NaN</td>\n",
       "      <td>NaN</td>\n",
       "      <td>NaN</td>\n",
       "      <td>NaN</td>\n",
       "      <td>NaN</td>\n",
       "      <td>NaN</td>\n",
       "    </tr>\n",
       "    <tr>\n",
       "      <th>2</th>\n",
       "      <td>2021-09-01 00:00:00+00:00</td>\n",
       "      <td>47.90</td>\n",
       "      <td>73.22</td>\n",
       "      <td>83.57</td>\n",
       "      <td>NaN</td>\n",
       "      <td>60d2b0557e9018a1a8d38c12</td>\n",
       "      <td>0</td>\n",
       "      <td>Rubaga</td>\n",
       "      <td>0.329428</td>\n",
       "      <td>32.551303</td>\n",
       "      <td>Kampala</td>\n",
       "      <td>NaN</td>\n",
       "      <td>NaN</td>\n",
       "      <td>NaN</td>\n",
       "      <td>NaN</td>\n",
       "      <td>NaN</td>\n",
       "      <td>NaN</td>\n",
       "    </tr>\n",
       "    <tr>\n",
       "      <th>3</th>\n",
       "      <td>2021-09-01 00:00:00+00:00</td>\n",
       "      <td>41.52</td>\n",
       "      <td>62.39</td>\n",
       "      <td>75.87</td>\n",
       "      <td>NaN</td>\n",
       "      <td>60d2b0807e9018a1a8d38c13</td>\n",
       "      <td>0</td>\n",
       "      <td>Rubaga Div, Rubaga</td>\n",
       "      <td>0.305636</td>\n",
       "      <td>32.563312</td>\n",
       "      <td>Kampala</td>\n",
       "      <td>NaN</td>\n",
       "      <td>NaN</td>\n",
       "      <td>NaN</td>\n",
       "      <td>NaN</td>\n",
       "      <td>NaN</td>\n",
       "      <td>NaN</td>\n",
       "    </tr>\n",
       "    <tr>\n",
       "      <th>4</th>\n",
       "      <td>2021-09-01 00:00:00+00:00</td>\n",
       "      <td>31.78</td>\n",
       "      <td>49.57</td>\n",
       "      <td>63.87</td>\n",
       "      <td>NaN</td>\n",
       "      <td>60d2b0a57e9018a1a8d38c14</td>\n",
       "      <td>0</td>\n",
       "      <td>KampalaCentral</td>\n",
       "      <td>0.319970</td>\n",
       "      <td>32.595548</td>\n",
       "      <td>Kampala</td>\n",
       "      <td>NaN</td>\n",
       "      <td>NaN</td>\n",
       "      <td>NaN</td>\n",
       "      <td>NaN</td>\n",
       "      <td>NaN</td>\n",
       "      <td>NaN</td>\n",
       "    </tr>\n",
       "  </tbody>\n",
       "</table>\n",
       "</div>"
      ],
      "text/plain": [
       "                  timestamp  pm2_5_calibrated_value  pm2_5_raw_value  \\\n",
       "0 2021-09-01 00:00:00+00:00                   33.22            55.88   \n",
       "1 2021-09-01 00:00:00+00:00                   33.35            72.55   \n",
       "2 2021-09-01 00:00:00+00:00                   47.90            73.22   \n",
       "3 2021-09-01 00:00:00+00:00                   41.52            62.39   \n",
       "4 2021-09-01 00:00:00+00:00                   31.78            49.57   \n",
       "\n",
       "   pm10_raw_value  pm10_calibrated_value                   site_id  \\\n",
       "0           75.45                    NaN  60d2affe7e9018a1a8d38c10   \n",
       "1           87.86                    NaN  60d2b0317e9018a1a8d38c11   \n",
       "2           83.57                    NaN  60d2b0557e9018a1a8d38c12   \n",
       "3           75.87                    NaN  60d2b0807e9018a1a8d38c13   \n",
       "4           63.87                    NaN  60d2b0a57e9018a1a8d38c14   \n",
       "\n",
       "   device_number           site_name  latitude  longitude     city  \\\n",
       "0              0      Luzira, Nakawa  0.299092  32.647930  Kampala   \n",
       "1              0              Rubaga  0.343729  32.551314  Kampala   \n",
       "2              0              Rubaga  0.329428  32.551303  Kampala   \n",
       "3              0  Rubaga Div, Rubaga  0.305636  32.563312  Kampala   \n",
       "4              0      KampalaCentral  0.319970  32.595548  Kampala   \n",
       "\n",
       "   temperature  humidity  wind_speed  precipitation  wind_direction  \\\n",
       "0          NaN       NaN         NaN            NaN             NaN   \n",
       "1          NaN       NaN         NaN            NaN             NaN   \n",
       "2          NaN       NaN         NaN            NaN             NaN   \n",
       "3          NaN       NaN         NaN            NaN             NaN   \n",
       "4          NaN       NaN         NaN            NaN             NaN   \n",
       "\n",
       "   wind_gusts  \n",
       "0         NaN  \n",
       "1         NaN  \n",
       "2         NaN  \n",
       "3         NaN  \n",
       "4         NaN  "
      ]
     },
     "execution_count": 5,
     "metadata": {},
     "output_type": "execute_result"
    }
   ],
   "source": [
    "kampala_df = pd.read_csv('../data/kampala_data_with_met.csv', parse_dates=['timestamp'])\n",
    "kampala_df.head()"
   ]
  },
  {
   "cell_type": "code",
   "execution_count": 6,
   "id": "13d3adbd",
   "metadata": {},
   "outputs": [
    {
     "data": {
      "text/plain": [
       "(73, 73, 57)"
      ]
     },
     "execution_count": 6,
     "metadata": {},
     "output_type": "execute_result"
    }
   ],
   "source": [
    "old_latitudes = kampala_df['latitude'].unique()\n",
    "old_longitudes = kampala_df['longitude'].unique()\n",
    "old_device_ids = kampala_df['device_number'].unique()\n",
    "len(old_latitudes), len(old_longitudes), len(old_device_ids)"
   ]
  },
  {
   "cell_type": "code",
   "execution_count": 8,
   "id": "4527b5e7",
   "metadata": {},
   "outputs": [
    {
     "data": {
      "text/html": [
       "<div>\n",
       "<style scoped>\n",
       "    .dataframe tbody tr th:only-of-type {\n",
       "        vertical-align: middle;\n",
       "    }\n",
       "\n",
       "    .dataframe tbody tr th {\n",
       "        vertical-align: top;\n",
       "    }\n",
       "\n",
       "    .dataframe thead th {\n",
       "        text-align: right;\n",
       "    }\n",
       "</style>\n",
       "<table border=\"1\" class=\"dataframe\">\n",
       "  <thead>\n",
       "    <tr style=\"text-align: right;\">\n",
       "      <th></th>\n",
       "      <th>time</th>\n",
       "      <th>latitude</th>\n",
       "      <th>longitude</th>\n",
       "      <th>temperature</th>\n",
       "      <th>humidity</th>\n",
       "      <th>pm2_5</th>\n",
       "      <th>device_number</th>\n",
       "    </tr>\n",
       "  </thead>\n",
       "  <tbody>\n",
       "    <tr>\n",
       "      <th>0</th>\n",
       "      <td>453031.0</td>\n",
       "      <td>0.360209</td>\n",
       "      <td>32.610756</td>\n",
       "      <td>24.233333</td>\n",
       "      <td>75.741667</td>\n",
       "      <td>10.5477</td>\n",
       "      <td>930434</td>\n",
       "    </tr>\n",
       "    <tr>\n",
       "      <th>1</th>\n",
       "      <td>453032.0</td>\n",
       "      <td>0.360209</td>\n",
       "      <td>32.610756</td>\n",
       "      <td>25.650000</td>\n",
       "      <td>68.066667</td>\n",
       "      <td>16.4250</td>\n",
       "      <td>930434</td>\n",
       "    </tr>\n",
       "    <tr>\n",
       "      <th>2</th>\n",
       "      <td>453033.0</td>\n",
       "      <td>0.360209</td>\n",
       "      <td>32.610756</td>\n",
       "      <td>26.150000</td>\n",
       "      <td>64.950000</td>\n",
       "      <td>17.7239</td>\n",
       "      <td>930434</td>\n",
       "    </tr>\n",
       "    <tr>\n",
       "      <th>3</th>\n",
       "      <td>453034.0</td>\n",
       "      <td>0.360209</td>\n",
       "      <td>32.610756</td>\n",
       "      <td>26.741667</td>\n",
       "      <td>63.066666</td>\n",
       "      <td>16.1533</td>\n",
       "      <td>930434</td>\n",
       "    </tr>\n",
       "    <tr>\n",
       "      <th>4</th>\n",
       "      <td>453035.0</td>\n",
       "      <td>0.360209</td>\n",
       "      <td>32.610756</td>\n",
       "      <td>27.400000</td>\n",
       "      <td>62.199999</td>\n",
       "      <td>18.0123</td>\n",
       "      <td>930434</td>\n",
       "    </tr>\n",
       "  </tbody>\n",
       "</table>\n",
       "</div>"
      ],
      "text/plain": [
       "       time  latitude  longitude  temperature   humidity    pm2_5  \\\n",
       "0  453031.0  0.360209  32.610756    24.233333  75.741667  10.5477   \n",
       "1  453032.0  0.360209  32.610756    25.650000  68.066667  16.4250   \n",
       "2  453033.0  0.360209  32.610756    26.150000  64.950000  17.7239   \n",
       "3  453034.0  0.360209  32.610756    26.741667  63.066666  16.1533   \n",
       "4  453035.0  0.360209  32.610756    27.400000  62.199999  18.0123   \n",
       "\n",
       "   device_number  \n",
       "0         930434  \n",
       "1         930434  \n",
       "2         930434  \n",
       "3         930434  \n",
       "4         930434  "
      ]
     },
     "execution_count": 8,
     "metadata": {},
     "output_type": "execute_result"
    }
   ],
   "source": [
    "final_df = pd.DataFrame()\n",
    "cols = ['timestamp', 'latitude', 'longitude', 'temperature', 'humidity', 'pm2_5_calibrated_value', 'device_number']\n",
    "for i, device_id in kampala_devices.id.iteritems():\n",
    "    device_df = utils.get_device_data(kampala_df, device_id, cols)\n",
    "    processed_df = utils.preprocessing(device_df)\n",
    "    final_df = pd.concat([final_df, processed_df])\n",
    "final_df.reset_index(drop=True, inplace=True)\n",
    "final_df.head()"
   ]
  },
  {
   "cell_type": "code",
   "execution_count": 9,
   "id": "9ca9bdee",
   "metadata": {},
   "outputs": [
    {
     "data": {
      "text/plain": [
       "(35, 35, 34)"
      ]
     },
     "execution_count": 9,
     "metadata": {},
     "output_type": "execute_result"
    }
   ],
   "source": [
    "latitudes = final_df['latitude'].unique()\n",
    "longitudes = final_df['longitude'].unique()\n",
    "device_ids = final_df['device_number'].unique()\n",
    "len(latitudes), len(longitudes), len(device_ids)"
   ]
  },
  {
   "cell_type": "code",
   "execution_count": 10,
   "id": "501c41db",
   "metadata": {},
   "outputs": [
    {
     "data": {
      "text/html": [
       "<div>\n",
       "<style scoped>\n",
       "    .dataframe tbody tr th:only-of-type {\n",
       "        vertical-align: middle;\n",
       "    }\n",
       "\n",
       "    .dataframe tbody tr th {\n",
       "        vertical-align: top;\n",
       "    }\n",
       "\n",
       "    .dataframe thead th {\n",
       "        text-align: right;\n",
       "    }\n",
       "</style>\n",
       "<table border=\"1\" class=\"dataframe\">\n",
       "  <thead>\n",
       "    <tr style=\"text-align: right;\">\n",
       "      <th></th>\n",
       "      <th>time</th>\n",
       "      <th>latitude</th>\n",
       "      <th>longitude</th>\n",
       "      <th>temperature</th>\n",
       "      <th>humidity</th>\n",
       "      <th>pm2_5</th>\n",
       "    </tr>\n",
       "  </thead>\n",
       "  <tbody>\n",
       "    <tr>\n",
       "      <th>0</th>\n",
       "      <td>453031.0</td>\n",
       "      <td>0.360209</td>\n",
       "      <td>32.610756</td>\n",
       "      <td>24.233333</td>\n",
       "      <td>75.741667</td>\n",
       "      <td>10.5477</td>\n",
       "    </tr>\n",
       "    <tr>\n",
       "      <th>1</th>\n",
       "      <td>453032.0</td>\n",
       "      <td>0.360209</td>\n",
       "      <td>32.610756</td>\n",
       "      <td>25.650000</td>\n",
       "      <td>68.066667</td>\n",
       "      <td>16.4250</td>\n",
       "    </tr>\n",
       "    <tr>\n",
       "      <th>2</th>\n",
       "      <td>453033.0</td>\n",
       "      <td>0.360209</td>\n",
       "      <td>32.610756</td>\n",
       "      <td>26.150000</td>\n",
       "      <td>64.950000</td>\n",
       "      <td>17.7239</td>\n",
       "    </tr>\n",
       "    <tr>\n",
       "      <th>3</th>\n",
       "      <td>453034.0</td>\n",
       "      <td>0.360209</td>\n",
       "      <td>32.610756</td>\n",
       "      <td>26.741667</td>\n",
       "      <td>63.066666</td>\n",
       "      <td>16.1533</td>\n",
       "    </tr>\n",
       "    <tr>\n",
       "      <th>4</th>\n",
       "      <td>453035.0</td>\n",
       "      <td>0.360209</td>\n",
       "      <td>32.610756</td>\n",
       "      <td>27.400000</td>\n",
       "      <td>62.199999</td>\n",
       "      <td>18.0123</td>\n",
       "    </tr>\n",
       "  </tbody>\n",
       "</table>\n",
       "</div>"
      ],
      "text/plain": [
       "       time  latitude  longitude  temperature   humidity    pm2_5\n",
       "0  453031.0  0.360209  32.610756    24.233333  75.741667  10.5477\n",
       "1  453032.0  0.360209  32.610756    25.650000  68.066667  16.4250\n",
       "2  453033.0  0.360209  32.610756    26.150000  64.950000  17.7239\n",
       "3  453034.0  0.360209  32.610756    26.741667  63.066666  16.1533\n",
       "4  453035.0  0.360209  32.610756    27.400000  62.199999  18.0123"
      ]
     },
     "execution_count": 10,
     "metadata": {},
     "output_type": "execute_result"
    }
   ],
   "source": [
    "final_df = final_df.drop(['device_number'], axis=1)\n",
    "final_df.head()"
   ]
  },
  {
   "cell_type": "markdown",
   "id": "24530391",
   "metadata": {},
   "source": [
    "#### delete from here"
   ]
  },
  {
   "cell_type": "markdown",
   "id": "76a25402",
   "metadata": {},
   "source": [
    "#### end here"
   ]
  },
  {
   "cell_type": "code",
   "execution_count": 11,
   "id": "be929aaf",
   "metadata": {},
   "outputs": [],
   "source": [
    "def cross_validation(final_df, idx, kernel_variance, lengthscales, likelihood_variance, trainable_kernel, \n",
    "                     trainable_variance, trainable_lengthscales):\n",
    "    device_indices = final_df[final_df.latitude==latitudes[idx]].index\n",
    "    device_df = kampala_df[kampala_df.device_number == device_ids[idx]]\n",
    "#     assert(len(device_indices) == len(device_df)-device_df.pm2_5_calibrated_value.isna().sum())\n",
    "    \n",
    "    test_df = final_df.loc[device_indices]\n",
    "#     assert(len(test_df.longitude.unique()) == 1)\n",
    "    \n",
    "    train_df = pd.concat([final_df, test_df]).drop_duplicates(keep=False)\n",
    "#     assert(len(train_df.longitude.unique()) == len(longitudes)-1)\n",
    "#     assert len(final_df) == len(test_df) + len(train_df)\n",
    "    \n",
    "    X_train = train_df.iloc[:, 0:-1]\n",
    "    y_train = train_df.iloc[:, -1]\n",
    "    X_train, y_train = np.array(X_train), np.array(y_train).reshape(-1, 1)\n",
    "    if X_train.shape[0] > 39999:\n",
    "        X_train = X_train[::6, :]\n",
    "        y_train = y_train[::6, :]\n",
    "#     print('printing x_train')\n",
    "#     print(f'X_train shape:{X_train.shape}')\n",
    "    \n",
    "    X_test = test_df.iloc[:, 0:-1]\n",
    "    y_test = test_df.iloc[:, -1]\n",
    "    X_test, y_test = np.array(X_test), np.array(y_test).reshape(-1, 1)\n",
    "    #to delete\n",
    "    #X_train, y_train, X_test, y_test = X_train[:100, :], y_train[:100, :], X_test[:100, :], y_test[:100, :]\n",
    "    \n",
    "    if lengthscales == 'train_shape':\n",
    "        lengthscales = np.ones(X_train.shape[1])\n",
    "    \n",
    "    if (lengthscales is None) & (kernel_variance is None):\n",
    "        k = gpflow.kernels.RBF() + gpflow.kernels.Bias()\n",
    "    elif lengthscales is None:\n",
    "        k = gpflow.kernels.RBF(variance=kernel_variance) + gpflow.kernels.Bias()\n",
    "    elif kernel_variance is None:\n",
    "        k = gpflow.kernels.RBF(lengthscales=lengthscales) + gpflow.kernels.Bias()\n",
    "    else:\n",
    "        k = gpflow.kernels.RBF(lengthscales=lengthscales, variance=kernel_variance) + gpflow.kernels.Bias()\n",
    "#     print('Training model .....................')    \n",
    "    m = gpflow.models.GPR(data=(X_train, y_train), kernel=k, mean_function=None)\n",
    "    if likelihood_variance is None:\n",
    "        pass\n",
    "    else:\n",
    "        m.likelihood.variance.assign(likelihood_variance)\n",
    "    set_trainable(m.kernel.kernels[0].variance, trainable_kernel)\n",
    "    set_trainable(m.likelihood.variance, trainable_variance)\n",
    "    set_trainable(m.kernel.kernels[0].lengthscales, trainable_lengthscales)\n",
    "    \n",
    "    #optimization\n",
    "#     print('Optimizing model ...........................')\n",
    "    opt = gpflow.optimizers.Scipy()\n",
    "    def objective_closure():\n",
    "        return - m.log_marginal_likelihood()\n",
    "    \n",
    "    opt_logs = opt.minimize(objective_closure,\n",
    "                            m.trainable_variables,\n",
    "                            options=dict(maxiter=100))\n",
    "\n",
    "    #prediction\n",
    "    mean, var = m.predict_f(X_test)\n",
    "    \n",
    "    rmse = sqrt(mean_squared_error(y_test, mean.numpy()))\n",
    "    mape = mean_absolute_percentage_error(y_test, mean.numpy())\n",
    "    return rmse, mape\n",
    "    \n",
    "#     return mean.numpy(), var.numpy(), Xtest, Ytest, round(rmse, 2)"
   ]
  },
  {
   "cell_type": "markdown",
   "id": "7928bfce",
   "metadata": {},
   "source": [
    "#### The real work"
   ]
  },
  {
   "cell_type": "code",
   "execution_count": 12,
   "id": "f270d810",
   "metadata": {},
   "outputs": [],
   "source": [
    "# lengthscales = [[0.08, 0.08, 1], None, 'train_shape']\n",
    "lengthscale = [1, 0.08, 0.08, 3, 5]\n",
    "# lengthscale = None\n",
    "# likelihood_variances = [400, 625, None]\n",
    "likelihood_variance = 400\n",
    "# kernel_variances = [625, 400, None]\n",
    "kernel_variance  = 625\n",
    "# trainable_kernels = [True, False]\n",
    "trainable_kernel = True\n",
    "# trainable_variances = [True, False]\n",
    "trainable_variance = True\n",
    "# trainable_lengthscales = [False, True]\n",
    "trainable_lengthscale = False #only changed this"
   ]
  },
  {
   "cell_type": "code",
   "execution_count": 13,
   "id": "146de88e",
   "metadata": {},
   "outputs": [
    {
     "name": "stderr",
     "output_type": "stream",
     "text": [
      "2023-08-15 02:31:54.178767: E tensorflow/compiler/xla/stream_executor/cuda/cuda_driver.cc:267] failed call to cuInit: CUDA_ERROR_NO_DEVICE: no CUDA-capable device is detected\n",
      "2023-08-15 02:31:54.178797: I tensorflow/compiler/xla/stream_executor/cuda/cuda_diagnostics.cc:169] retrieving CUDA diagnostic information for host: PL1207-PRO.paris.inria.fr\n",
      "2023-08-15 02:31:54.178800: I tensorflow/compiler/xla/stream_executor/cuda/cuda_diagnostics.cc:176] hostname: PL1207-PRO.paris.inria.fr\n",
      "2023-08-15 02:31:54.178909: I tensorflow/compiler/xla/stream_executor/cuda/cuda_diagnostics.cc:200] libcuda reported version is: 525.125.6\n",
      "2023-08-15 02:31:54.178930: I tensorflow/compiler/xla/stream_executor/cuda/cuda_diagnostics.cc:204] kernel reported version is: NOT_FOUND: could not find kernel module information in driver version file contents: \"NVRM version: NVIDIA UNIX Open Kernel Module for x86_64  525.125.06  Release Build  (dvs-builder@U16-A23-14-1)  Tue May 30 05:12:48 UTC 2023\n",
      "GCC version:  gcc version 9.4.0 (Ubuntu 9.4.0-1ubuntu1~20.04.1) \n",
      "\"\n",
      "2023-08-15 02:31:54.179519: I tensorflow/core/platform/cpu_feature_guard.cc:193] This TensorFlow binary is optimized with oneAPI Deep Neural Network Library (oneDNN) to use the following CPU instructions in performance-critical operations:  AVX2 AVX_VNNI FMA\n",
      "To enable them in other operations, rebuild TensorFlow with the appropriate compiler flags.\n"
     ]
    },
    {
     "name": "stdout",
     "output_type": "stream",
     "text": [
      "WARNING:tensorflow:From /home/lmuyama/anaconda3/envs/gp_env/lib/python3.7/site-packages/tensorflow/python/autograph/pyct/static_analysis/liveness.py:83: Analyzer.lamba_check (from tensorflow.python.autograph.pyct.static_analysis.liveness) is deprecated and will be removed after 2023-09-23.\n",
      "Instructions for updating:\n",
      "Lambda fuctions will be no more assumed to be used in the statement where they are used, or at least in the same block. https://github.com/tensorflow/tensorflow/issues/56089\n"
     ]
    },
    {
     "name": "stderr",
     "output_type": "stream",
     "text": [
      "2023-08-15 02:37:02.558267: W tensorflow/core/kernels/linalg/cholesky_op.cc:56] Cholesky decomposition was not successful. Eigen::LLT failed with error code 1. Filling lower-triangular output with NaNs.\n"
     ]
    },
    {
     "name": "stdout",
     "output_type": "stream",
     "text": [
      "930434 successful\n"
     ]
    },
    {
     "name": "stderr",
     "output_type": "stream",
     "text": [
      "2023-08-15 02:48:09.982465: W tensorflow/core/kernels/linalg/cholesky_op.cc:56] Cholesky decomposition was not successful. Eigen::LLT failed with error code 1. Filling lower-triangular output with NaNs.\n"
     ]
    },
    {
     "name": "stdout",
     "output_type": "stream",
     "text": [
      "718028 successful\n"
     ]
    },
    {
     "name": "stderr",
     "output_type": "stream",
     "text": [
      "2023-08-15 02:58:54.626868: W tensorflow/core/kernels/linalg/cholesky_op.cc:56] Cholesky decomposition was not successful. Eigen::LLT failed with error code 1. Filling lower-triangular output with NaNs.\n"
     ]
    },
    {
     "name": "stdout",
     "output_type": "stream",
     "text": [
      "912224 successful\n"
     ]
    },
    {
     "name": "stderr",
     "output_type": "stream",
     "text": [
      "2023-08-15 03:08:19.863734: W tensorflow/core/kernels/linalg/cholesky_op.cc:56] Cholesky decomposition was not successful. Eigen::LLT failed with error code 1. Filling lower-triangular output with NaNs.\n"
     ]
    },
    {
     "name": "stdout",
     "output_type": "stream",
     "text": [
      "930426 successful\n"
     ]
    },
    {
     "name": "stderr",
     "output_type": "stream",
     "text": [
      "2023-08-15 03:20:02.480031: W tensorflow/core/kernels/linalg/cholesky_op.cc:56] Cholesky decomposition was not successful. Eigen::LLT failed with error code 1. Filling lower-triangular output with NaNs.\n"
     ]
    },
    {
     "name": "stdout",
     "output_type": "stream",
     "text": [
      "930427 successful\n"
     ]
    },
    {
     "name": "stderr",
     "output_type": "stream",
     "text": [
      "2023-08-15 03:30:55.402037: W tensorflow/core/kernels/linalg/cholesky_op.cc:56] Cholesky decomposition was not successful. Eigen::LLT failed with error code 1. Filling lower-triangular output with NaNs.\n"
     ]
    },
    {
     "name": "stdout",
     "output_type": "stream",
     "text": [
      "912223 successful\n"
     ]
    },
    {
     "name": "stderr",
     "output_type": "stream",
     "text": [
      "2023-08-15 03:43:02.679415: W tensorflow/core/kernels/linalg/cholesky_op.cc:56] Cholesky decomposition was not successful. Eigen::LLT failed with error code 1. Filling lower-triangular output with NaNs.\n"
     ]
    },
    {
     "name": "stdout",
     "output_type": "stream",
     "text": [
      "912222 successful\n",
      "912220 successful\n"
     ]
    },
    {
     "name": "stderr",
     "output_type": "stream",
     "text": [
      "2023-08-15 04:20:23.647319: W tensorflow/core/kernels/linalg/cholesky_op.cc:56] Cholesky decomposition was not successful. Eigen::LLT failed with error code 1. Filling lower-triangular output with NaNs.\n"
     ]
    },
    {
     "name": "stdout",
     "output_type": "stream",
     "text": [
      "870145 successful\n"
     ]
    },
    {
     "name": "stderr",
     "output_type": "stream",
     "text": [
      "2023-08-15 04:33:43.922329: W tensorflow/core/kernels/linalg/cholesky_op.cc:56] Cholesky decomposition was not successful. Eigen::LLT failed with error code 1. Filling lower-triangular output with NaNs.\n"
     ]
    },
    {
     "name": "stdout",
     "output_type": "stream",
     "text": [
      "870143 successful\n"
     ]
    },
    {
     "name": "stderr",
     "output_type": "stream",
     "text": [
      "2023-08-15 04:46:41.834210: W tensorflow/core/kernels/linalg/cholesky_op.cc:56] Cholesky decomposition was not successful. Eigen::LLT failed with error code 1. Filling lower-triangular output with NaNs.\n"
     ]
    },
    {
     "name": "stdout",
     "output_type": "stream",
     "text": [
      "870144 successful\n"
     ]
    },
    {
     "name": "stderr",
     "output_type": "stream",
     "text": [
      "2023-08-15 05:01:34.882037: W tensorflow/core/kernels/linalg/cholesky_op.cc:56] Cholesky decomposition was not successful. Eigen::LLT failed with error code 1. Filling lower-triangular output with NaNs.\n"
     ]
    },
    {
     "name": "stdout",
     "output_type": "stream",
     "text": [
      "870147 successful\n"
     ]
    },
    {
     "name": "stderr",
     "output_type": "stream",
     "text": [
      "2023-08-15 05:14:46.226714: W tensorflow/core/kernels/linalg/cholesky_op.cc:56] Cholesky decomposition was not successful. Eigen::LLT failed with error code 1. Filling lower-triangular output with NaNs.\n"
     ]
    },
    {
     "name": "stdout",
     "output_type": "stream",
     "text": [
      "870142 successful\n"
     ]
    },
    {
     "name": "stderr",
     "output_type": "stream",
     "text": [
      "2023-08-15 05:24:04.479108: W tensorflow/core/kernels/linalg/cholesky_op.cc:56] Cholesky decomposition was not successful. Eigen::LLT failed with error code 1. Filling lower-triangular output with NaNs.\n"
     ]
    },
    {
     "name": "stdout",
     "output_type": "stream",
     "text": [
      "832255 successful\n"
     ]
    },
    {
     "name": "stderr",
     "output_type": "stream",
     "text": [
      "2023-08-15 05:32:50.641698: W tensorflow/core/kernels/linalg/cholesky_op.cc:56] Cholesky decomposition was not successful. Eigen::LLT failed with error code 1. Filling lower-triangular output with NaNs.\n"
     ]
    },
    {
     "name": "stdout",
     "output_type": "stream",
     "text": [
      "832252 successful\n"
     ]
    },
    {
     "name": "stderr",
     "output_type": "stream",
     "text": [
      "2023-08-15 05:42:07.252814: W tensorflow/core/kernels/linalg/cholesky_op.cc:56] Cholesky decomposition was not successful. Eigen::LLT failed with error code 1. Filling lower-triangular output with NaNs.\n"
     ]
    },
    {
     "name": "stdout",
     "output_type": "stream",
     "text": [
      "832253 successful\n"
     ]
    },
    {
     "name": "stderr",
     "output_type": "stream",
     "text": [
      "2023-08-15 05:53:50.515829: W tensorflow/core/kernels/linalg/cholesky_op.cc:56] Cholesky decomposition was not successful. Eigen::LLT failed with error code 1. Filling lower-triangular output with NaNs.\n"
     ]
    },
    {
     "name": "stdout",
     "output_type": "stream",
     "text": [
      "832254 successful\n"
     ]
    },
    {
     "name": "stderr",
     "output_type": "stream",
     "text": [
      "2023-08-15 06:05:07.698090: W tensorflow/core/kernels/linalg/cholesky_op.cc:56] Cholesky decomposition was not successful. Eigen::LLT failed with error code 1. Filling lower-triangular output with NaNs.\n"
     ]
    },
    {
     "name": "stdout",
     "output_type": "stream",
     "text": [
      "832251 successful\n"
     ]
    },
    {
     "name": "stderr",
     "output_type": "stream",
     "text": [
      "2023-08-15 06:14:44.239088: W tensorflow/core/kernels/linalg/cholesky_op.cc:56] Cholesky decomposition was not successful. Eigen::LLT failed with error code 1. Filling lower-triangular output with NaNs.\n"
     ]
    },
    {
     "name": "stdout",
     "output_type": "stream",
     "text": [
      "782720 successful\n"
     ]
    },
    {
     "name": "stderr",
     "output_type": "stream",
     "text": [
      "2023-08-15 06:23:25.156341: W tensorflow/core/kernels/linalg/cholesky_op.cc:56] Cholesky decomposition was not successful. Eigen::LLT failed with error code 1. Filling lower-triangular output with NaNs.\n"
     ]
    },
    {
     "name": "stdout",
     "output_type": "stream",
     "text": [
      "782719 successful\n"
     ]
    },
    {
     "name": "stderr",
     "output_type": "stream",
     "text": [
      "2023-08-15 06:34:07.740756: W tensorflow/core/kernels/linalg/cholesky_op.cc:56] Cholesky decomposition was not successful. Eigen::LLT failed with error code 1. Filling lower-triangular output with NaNs.\n"
     ]
    },
    {
     "name": "stdout",
     "output_type": "stream",
     "text": [
      "782718 successful\n"
     ]
    },
    {
     "name": "stderr",
     "output_type": "stream",
     "text": [
      "2023-08-15 06:43:30.787792: W tensorflow/core/kernels/linalg/cholesky_op.cc:56] Cholesky decomposition was not successful. Eigen::LLT failed with error code 1. Filling lower-triangular output with NaNs.\n"
     ]
    },
    {
     "name": "stdout",
     "output_type": "stream",
     "text": [
      "755614 successful\n"
     ]
    },
    {
     "name": "stderr",
     "output_type": "stream",
     "text": [
      "2023-08-15 06:55:10.234133: W tensorflow/core/kernels/linalg/cholesky_op.cc:56] Cholesky decomposition was not successful. Eigen::LLT failed with error code 1. Filling lower-triangular output with NaNs.\n"
     ]
    },
    {
     "name": "stdout",
     "output_type": "stream",
     "text": [
      "755612 successful\n"
     ]
    },
    {
     "name": "stderr",
     "output_type": "stream",
     "text": [
      "2023-08-15 07:04:16.718654: W tensorflow/core/kernels/linalg/cholesky_op.cc:56] Cholesky decomposition was not successful. Eigen::LLT failed with error code 1. Filling lower-triangular output with NaNs.\n"
     ]
    },
    {
     "name": "stdout",
     "output_type": "stream",
     "text": [
      "870146 successful\n"
     ]
    },
    {
     "name": "stderr",
     "output_type": "stream",
     "text": [
      "2023-08-15 07:16:38.396455: W tensorflow/core/kernels/linalg/cholesky_op.cc:56] Cholesky decomposition was not successful. Eigen::LLT failed with error code 1. Filling lower-triangular output with NaNs.\n"
     ]
    },
    {
     "name": "stdout",
     "output_type": "stream",
     "text": [
      "737276 successful\n"
     ]
    },
    {
     "name": "stderr",
     "output_type": "stream",
     "text": [
      "2023-08-15 07:29:33.725044: W tensorflow/core/kernels/linalg/cholesky_op.cc:56] Cholesky decomposition was not successful. Eigen::LLT failed with error code 1. Filling lower-triangular output with NaNs.\n"
     ]
    },
    {
     "name": "stdout",
     "output_type": "stream",
     "text": [
      "737273 successful\n"
     ]
    },
    {
     "name": "stderr",
     "output_type": "stream",
     "text": [
      "2023-08-15 07:39:33.552870: W tensorflow/core/kernels/linalg/cholesky_op.cc:56] Cholesky decomposition was not successful. Eigen::LLT failed with error code 1. Filling lower-triangular output with NaNs.\n"
     ]
    },
    {
     "name": "stdout",
     "output_type": "stream",
     "text": [
      "689761 successful\n"
     ]
    },
    {
     "name": "stderr",
     "output_type": "stream",
     "text": [
      "2023-08-15 07:48:05.428420: W tensorflow/core/kernels/linalg/cholesky_op.cc:56] Cholesky decomposition was not successful. Eigen::LLT failed with error code 1. Filling lower-triangular output with NaNs.\n"
     ]
    },
    {
     "name": "stdout",
     "output_type": "stream",
     "text": [
      "718029 successful\n"
     ]
    },
    {
     "name": "stderr",
     "output_type": "stream",
     "text": [
      "2023-08-15 07:59:36.447890: W tensorflow/core/kernels/linalg/cholesky_op.cc:56] Cholesky decomposition was not successful. Eigen::LLT failed with error code 1. Filling lower-triangular output with NaNs.\n"
     ]
    },
    {
     "name": "stdout",
     "output_type": "stream",
     "text": [
      "782721 successful\n"
     ]
    },
    {
     "name": "stderr",
     "output_type": "stream",
     "text": [
      "2023-08-15 08:11:35.962771: W tensorflow/core/kernels/linalg/cholesky_op.cc:56] Cholesky decomposition was not successful. Eigen::LLT failed with error code 1. Filling lower-triangular output with NaNs.\n"
     ]
    },
    {
     "name": "stdout",
     "output_type": "stream",
     "text": [
      "782722 successful\n"
     ]
    },
    {
     "name": "stderr",
     "output_type": "stream",
     "text": [
      "2023-08-15 08:23:59.610489: W tensorflow/core/kernels/linalg/cholesky_op.cc:56] Cholesky decomposition was not successful. Eigen::LLT failed with error code 1. Filling lower-triangular output with NaNs.\n"
     ]
    },
    {
     "name": "stdout",
     "output_type": "stream",
     "text": [
      "912219 successful\n"
     ]
    },
    {
     "name": "stderr",
     "output_type": "stream",
     "text": [
      "2023-08-15 08:36:00.790927: W tensorflow/core/kernels/linalg/cholesky_op.cc:56] Cholesky decomposition was not successful. Eigen::LLT failed with error code 1. Filling lower-triangular output with NaNs.\n"
     ]
    },
    {
     "name": "stdout",
     "output_type": "stream",
     "text": [
      "912221 successful\n",
      "912225 successful\n",
      "930429 successful\n",
      "index 34 is out of bounds for axis 0 with size 34\n"
     ]
    },
    {
     "ename": "IndexError",
     "evalue": "index 34 is out of bounds for axis 0 with size 34",
     "output_type": "error",
     "traceback": [
      "\u001b[0;31m---------------------------------------------------------------------------\u001b[0m",
      "\u001b[0;31mIndexError\u001b[0m                                Traceback (most recent call last)",
      "\u001b[0;32m/tmp/ipykernel_58186/2264455862.py\u001b[0m in \u001b[0;36m<module>\u001b[0;34m\u001b[0m\n\u001b[1;32m     15\u001b[0m         rmse, mape = cross_validation(final_df, i, kernel_variance, lengthscale, likelihood_variance, \n\u001b[0;32m---> 16\u001b[0;31m                                 trainable_kernel, trainable_variance, trainable_lengthscale)\n\u001b[0m\u001b[1;32m     17\u001b[0m         \u001b[0mrmse_list\u001b[0m\u001b[0;34m.\u001b[0m\u001b[0mappend\u001b[0m\u001b[0;34m(\u001b[0m\u001b[0mrmse\u001b[0m\u001b[0;34m)\u001b[0m\u001b[0;34m\u001b[0m\u001b[0;34m\u001b[0m\u001b[0m\n",
      "\u001b[0;32m/tmp/ipykernel_58186/3725287954.py\u001b[0m in \u001b[0;36mcross_validation\u001b[0;34m(final_df, idx, kernel_variance, lengthscales, likelihood_variance, trainable_kernel, trainable_variance, trainable_lengthscales)\u001b[0m\n\u001b[1;32m      3\u001b[0m     \u001b[0mdevice_indices\u001b[0m \u001b[0;34m=\u001b[0m \u001b[0mfinal_df\u001b[0m\u001b[0;34m[\u001b[0m\u001b[0mfinal_df\u001b[0m\u001b[0;34m.\u001b[0m\u001b[0mlatitude\u001b[0m\u001b[0;34m==\u001b[0m\u001b[0mlatitudes\u001b[0m\u001b[0;34m[\u001b[0m\u001b[0midx\u001b[0m\u001b[0;34m]\u001b[0m\u001b[0;34m]\u001b[0m\u001b[0;34m.\u001b[0m\u001b[0mindex\u001b[0m\u001b[0;34m\u001b[0m\u001b[0;34m\u001b[0m\u001b[0m\n\u001b[0;32m----> 4\u001b[0;31m     \u001b[0mdevice_df\u001b[0m \u001b[0;34m=\u001b[0m \u001b[0mkampala_df\u001b[0m\u001b[0;34m[\u001b[0m\u001b[0mkampala_df\u001b[0m\u001b[0;34m.\u001b[0m\u001b[0mdevice_number\u001b[0m \u001b[0;34m==\u001b[0m \u001b[0mdevice_ids\u001b[0m\u001b[0;34m[\u001b[0m\u001b[0midx\u001b[0m\u001b[0;34m]\u001b[0m\u001b[0;34m]\u001b[0m\u001b[0;34m\u001b[0m\u001b[0;34m\u001b[0m\u001b[0m\n\u001b[0m\u001b[1;32m      5\u001b[0m \u001b[0;31m#     assert(len(device_indices) == len(device_df)-device_df.pm2_5_calibrated_value.isna().sum())\u001b[0m\u001b[0;34m\u001b[0m\u001b[0;34m\u001b[0m\u001b[0;34m\u001b[0m\u001b[0m\n",
      "\u001b[0;31mIndexError\u001b[0m: index 34 is out of bounds for axis 0 with size 34",
      "\nDuring handling of the above exception, another exception occurred:\n",
      "\u001b[0;31mIndexError\u001b[0m                                Traceback (most recent call last)",
      "\u001b[0;32m/tmp/ipykernel_58186/2264455862.py\u001b[0m in \u001b[0;36m<module>\u001b[0;34m\u001b[0m\n\u001b[1;32m     20\u001b[0m     \u001b[0;32mexcept\u001b[0m \u001b[0mException\u001b[0m \u001b[0;32mas\u001b[0m \u001b[0me\u001b[0m\u001b[0;34m:\u001b[0m\u001b[0;34m\u001b[0m\u001b[0;34m\u001b[0m\u001b[0m\n\u001b[1;32m     21\u001b[0m         \u001b[0mprint\u001b[0m\u001b[0;34m(\u001b[0m\u001b[0me\u001b[0m\u001b[0;34m)\u001b[0m\u001b[0;34m\u001b[0m\u001b[0;34m\u001b[0m\u001b[0m\n\u001b[0;32m---> 22\u001b[0;31m         \u001b[0mprint\u001b[0m\u001b[0;34m(\u001b[0m\u001b[0;34mf'{device_ids[i]} failed'\u001b[0m\u001b[0;34m)\u001b[0m\u001b[0;34m\u001b[0m\u001b[0;34m\u001b[0m\u001b[0m\n\u001b[0m\u001b[1;32m     23\u001b[0m         \u001b[0;32mbreak\u001b[0m\u001b[0;34m\u001b[0m\u001b[0;34m\u001b[0m\u001b[0m\n\u001b[1;32m     24\u001b[0m \u001b[0;34m\u001b[0m\u001b[0m\n",
      "\u001b[0;31mIndexError\u001b[0m: index 34 is out of bounds for axis 0 with size 34"
     ]
    }
   ],
   "source": [
    "# count = 0\n",
    "results_df = pd.DataFrame()\n",
    "# for lengthscale in lengthscales:\n",
    "#     for likelihood_variance in likelihood_variances:\n",
    "#         for kernel_variance in kernel_variances:\n",
    "#             for trainable_kernel in trainable_kernels:\n",
    "#                 for trainable_variance in trainable_variances:\n",
    "#                     for trainable_lengthscale in trainable_lengthscales:\n",
    "#                         count+=1\n",
    "rmse_list = []\n",
    "mape_list = []\n",
    "#                         print(f'EXPERIMENT {count}')\n",
    "for i in range(len(latitudes)):\n",
    "    try:\n",
    "        rmse, mape = cross_validation(final_df, i, kernel_variance, lengthscale, likelihood_variance, \n",
    "                                trainable_kernel, trainable_variance, trainable_lengthscale)\n",
    "        rmse_list.append(rmse)\n",
    "        mape_list.append(mape)\n",
    "        print(f'{device_ids[i]} successful')\n",
    "    except Exception as e:\n",
    "        print(e)\n",
    "        print(f'{device_ids[i]} failed')\n",
    "        break\n",
    "\n",
    "mean_rmse = np.mean(rmse_list)\n",
    "mean_mape = np.mean(mape_list)\n",
    "results_dict= {'lengthscale':lengthscale, 'likelihood_variance':likelihood_variance, \n",
    "               'kernel_variance':kernel_variance, 'trainable_kernel':trainable_kernel, \n",
    "               'trainable_variance':trainable_variance, 'trainable_lengthscale':trainable_lengthscale, \n",
    "               'avg_rmse':mean_rmse, 'rmse_list':rmse_list, 'avg_mape':mean_mape, 'mape_list':mape_list}\n",
    "print(results_dict)\n",
    "results_df = results_df.append(results_dict, ignore_index=True)\n",
    "results_df.to_csv(f'../results/basic_results_lengthscales_with_met.csv', index=False)               "
   ]
  },
  {
   "cell_type": "code",
   "execution_count": 14,
   "id": "85c88b31",
   "metadata": {},
   "outputs": [
    {
     "data": {
      "text/plain": [
       "[17.1614825151291,\n",
       " 18.202070759489523,\n",
       " 15.891526922176903,\n",
       " 16.842808105242455,\n",
       " 26.748096711824918,\n",
       " 29.18152624380592,\n",
       " 20.75653123493513,\n",
       " 12.318186976450393,\n",
       " 41.44912128045828,\n",
       " 24.03010423725024,\n",
       " 26.314141328295282,\n",
       " 17.417989657568974,\n",
       " 22.231285370391305,\n",
       " 44.98204311479751,\n",
       " 18.697893506446526,\n",
       " 23.63535739287989,\n",
       " 26.170502463943716,\n",
       " 19.926841227726285,\n",
       " 17.155605445536715,\n",
       " 15.45491653952877,\n",
       " 36.24606292551069,\n",
       " 17.783202928780515,\n",
       " 17.40175145231746,\n",
       " 16.295492856435462,\n",
       " 15.617303253286888,\n",
       " 22.018557981542582,\n",
       " 29.96678182908631,\n",
       " 23.27498603725865,\n",
       " 18.259966772372458,\n",
       " 17.886486018005982,\n",
       " 18.41216953637679,\n",
       " 29.62735358842536,\n",
       " 13.526779404835906,\n",
       " 31.5684367904448]"
      ]
     },
     "execution_count": 14,
     "metadata": {},
     "output_type": "execute_result"
    }
   ],
   "source": [
    "rmse_list"
   ]
  },
  {
   "cell_type": "code",
   "execution_count": 16,
   "id": "d8379ce4",
   "metadata": {},
   "outputs": [
    {
     "data": {
      "text/plain": [
       "22.425098894369345"
      ]
     },
     "execution_count": 16,
     "metadata": {},
     "output_type": "execute_result"
    }
   ],
   "source": [
    "mean_rmse = np.mean(rmse_list)\n",
    "mean_rmse"
   ]
  },
  {
   "cell_type": "code",
   "execution_count": 17,
   "id": "09badaa7",
   "metadata": {},
   "outputs": [
    {
     "data": {
      "text/plain": [
       "[0.6657549050079825,\n",
       " 0.9759048122535691,\n",
       " 0.9304201388429593,\n",
       " 0.795903367096099,\n",
       " 0.448409204061321,\n",
       " 0.5201003501919166,\n",
       " 0.6865877438696724,\n",
       " 0.3824911656526939,\n",
       " 0.45035379105800516,\n",
       " 0.44565868161059097,\n",
       " 0.6071743986527516,\n",
       " 1.00604722308183,\n",
       " 0.6678998879582502,\n",
       " 0.4640839225060268,\n",
       " 1.4324518246964157,\n",
       " 0.540115178954273,\n",
       " 0.426508663217475,\n",
       " 0.5391747521743979,\n",
       " 0.7420533361416649,\n",
       " 0.829984115644874,\n",
       " 0.42442099471912775,\n",
       " 0.9577128272625676,\n",
       " 0.8696116903441288,\n",
       " 0.7325662562076837,\n",
       " 0.6554824548277536,\n",
       " 0.44011113933857304,\n",
       " 0.48960515609030253,\n",
       " 0.4153557920568538,\n",
       " 0.7839197191755196,\n",
       " 1.1014284746553116,\n",
       " 0.699417147221122,\n",
       " 0.46521777053854035,\n",
       " 0.34242513884129744,\n",
       " 0.4002247791547733]"
      ]
     },
     "execution_count": 17,
     "metadata": {},
     "output_type": "execute_result"
    }
   ],
   "source": [
    "mape_list"
   ]
  },
  {
   "cell_type": "code",
   "execution_count": 18,
   "id": "3e78d074",
   "metadata": {},
   "outputs": [
    {
     "data": {
      "text/plain": [
       "0.6568993177384213"
      ]
     },
     "execution_count": 18,
     "metadata": {},
     "output_type": "execute_result"
    }
   ],
   "source": [
    "mean_mape = np.mean(mape_list)\n",
    "mean_mape"
   ]
  },
  {
   "cell_type": "markdown",
   "id": "ac260049",
   "metadata": {},
   "source": [
    "###### "
   ]
  }
 ],
 "metadata": {
  "kernelspec": {
   "display_name": "Python 3 (ipykernel)",
   "language": "python",
   "name": "python3"
  },
  "language_info": {
   "codemirror_mode": {
    "name": "ipython",
    "version": 3
   },
   "file_extension": ".py",
   "mimetype": "text/x-python",
   "name": "python",
   "nbconvert_exporter": "python",
   "pygments_lexer": "ipython3",
   "version": "3.7.4"
  }
 },
 "nbformat": 4,
 "nbformat_minor": 5
}
