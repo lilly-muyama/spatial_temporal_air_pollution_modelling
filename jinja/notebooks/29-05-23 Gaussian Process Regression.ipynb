{
 "cells": [
  {
   "cell_type": "code",
   "execution_count": 1,
   "id": "3eff53fe",
   "metadata": {},
   "outputs": [
    {
     "name": "stderr",
     "output_type": "stream",
     "text": [
      "2023-07-07 00:53:04.628133: I tensorflow/core/platform/cpu_feature_guard.cc:193] This TensorFlow binary is optimized with oneAPI Deep Neural Network Library (oneDNN) to use the following CPU instructions in performance-critical operations:  AVX2 AVX_VNNI FMA\n",
      "To enable them in other operations, rebuild TensorFlow with the appropriate compiler flags.\n",
      "2023-07-07 00:53:04.704387: I tensorflow/core/util/port.cc:104] oneDNN custom operations are on. You may see slightly different numerical results due to floating-point round-off errors from different computation orders. To turn them off, set the environment variable `TF_ENABLE_ONEDNN_OPTS=0`.\n",
      "2023-07-07 00:53:04.706649: W tensorflow/compiler/xla/stream_executor/platform/default/dso_loader.cc:64] Could not load dynamic library 'libcudart.so.11.0'; dlerror: libcudart.so.11.0: cannot open shared object file: No such file or directory\n",
      "2023-07-07 00:53:04.706661: I tensorflow/compiler/xla/stream_executor/cuda/cudart_stub.cc:29] Ignore above cudart dlerror if you do not have a GPU set up on your machine.\n",
      "2023-07-07 00:53:05.081474: W tensorflow/compiler/xla/stream_executor/platform/default/dso_loader.cc:64] Could not load dynamic library 'libnvinfer.so.7'; dlerror: libnvinfer.so.7: cannot open shared object file: No such file or directory\n",
      "2023-07-07 00:53:05.081525: W tensorflow/compiler/xla/stream_executor/platform/default/dso_loader.cc:64] Could not load dynamic library 'libnvinfer_plugin.so.7'; dlerror: libnvinfer_plugin.so.7: cannot open shared object file: No such file or directory\n",
      "2023-07-07 00:53:05.081529: W tensorflow/compiler/tf2tensorrt/utils/py_utils.cc:38] TF-TRT Warning: Cannot dlopen some TensorRT libraries. If you would like to use Nvidia GPU with TensorRT, please make sure the missing libraries mentioned above are installed properly.\n"
     ]
    }
   ],
   "source": [
    "import pandas as pd\n",
    "import numpy as np\n",
    "import sys\n",
    "from math import sqrt\n",
    "sys.path.append('../..')\n",
    "from modules import utils\n",
    "import gpflow\n",
    "from gpflow import set_trainable\n",
    "from sklearn.metrics import mean_squared_error, mean_absolute_percentage_error\n",
    "import warnings\n",
    "warnings.filterwarnings('ignore')\n",
    "import matplotlib.pyplot as plt\n",
    "%matplotlib inline"
   ]
  },
  {
   "cell_type": "code",
   "execution_count": null,
   "id": "43c26469",
   "metadata": {},
   "outputs": [],
   "source": [
    "seed = 42\n",
    "random.seed(SEED)\n",
    "np.random.seed(SEED)\n",
    "os.environ['PYTHONHASHSEED']=str(SEED)\n",
    "tf.random.set_seed(SEED)\n",
    "gpflow.config.set_default_seed(SEED)"
   ]
  },
  {
   "cell_type": "code",
   "execution_count": 2,
   "id": "1d3482de",
   "metadata": {},
   "outputs": [
    {
     "data": {
      "text/html": [
       "<div>\n",
       "<style scoped>\n",
       "    .dataframe tbody tr th:only-of-type {\n",
       "        vertical-align: middle;\n",
       "    }\n",
       "\n",
       "    .dataframe tbody tr th {\n",
       "        vertical-align: top;\n",
       "    }\n",
       "\n",
       "    .dataframe thead th {\n",
       "        text-align: right;\n",
       "    }\n",
       "</style>\n",
       "<table border=\"1\" class=\"dataframe\">\n",
       "  <thead>\n",
       "    <tr style=\"text-align: right;\">\n",
       "      <th></th>\n",
       "      <th>site_name</th>\n",
       "      <th>latitude</th>\n",
       "      <th>longitude</th>\n",
       "      <th>city</th>\n",
       "      <th>timestamp</th>\n",
       "      <th>pm2_5_calibrated_value</th>\n",
       "      <th>pm2_5_raw_value</th>\n",
       "      <th>pm10_raw_value</th>\n",
       "      <th>pm10_calibrated_value</th>\n",
       "      <th>site_id</th>\n",
       "      <th>device_number</th>\n",
       "      <th>device_name</th>\n",
       "    </tr>\n",
       "  </thead>\n",
       "  <tbody>\n",
       "    <tr>\n",
       "      <th>0</th>\n",
       "      <td>Jinja Main Street, Jinja</td>\n",
       "      <td>0.437337</td>\n",
       "      <td>33.211051</td>\n",
       "      <td>Jinja</td>\n",
       "      <td>2021-09-01 00:00:00+00:00</td>\n",
       "      <td>NaN</td>\n",
       "      <td>NaN</td>\n",
       "      <td>NaN</td>\n",
       "      <td>NaN</td>\n",
       "      <td>60d058c8048305120d2d6142</td>\n",
       "      <td>689753</td>\n",
       "      <td>aq_23</td>\n",
       "    </tr>\n",
       "    <tr>\n",
       "      <th>1</th>\n",
       "      <td>Jinja Main Street, Jinja</td>\n",
       "      <td>0.437337</td>\n",
       "      <td>33.211051</td>\n",
       "      <td>Jinja</td>\n",
       "      <td>2021-09-01 01:00:00+00:00</td>\n",
       "      <td>NaN</td>\n",
       "      <td>NaN</td>\n",
       "      <td>NaN</td>\n",
       "      <td>NaN</td>\n",
       "      <td>60d058c8048305120d2d6142</td>\n",
       "      <td>689753</td>\n",
       "      <td>aq_23</td>\n",
       "    </tr>\n",
       "    <tr>\n",
       "      <th>2</th>\n",
       "      <td>Jinja Main Street, Jinja</td>\n",
       "      <td>0.437337</td>\n",
       "      <td>33.211051</td>\n",
       "      <td>Jinja</td>\n",
       "      <td>2021-09-01 02:00:00+00:00</td>\n",
       "      <td>NaN</td>\n",
       "      <td>NaN</td>\n",
       "      <td>NaN</td>\n",
       "      <td>NaN</td>\n",
       "      <td>60d058c8048305120d2d6142</td>\n",
       "      <td>689753</td>\n",
       "      <td>aq_23</td>\n",
       "    </tr>\n",
       "    <tr>\n",
       "      <th>3</th>\n",
       "      <td>Jinja Main Street, Jinja</td>\n",
       "      <td>0.437337</td>\n",
       "      <td>33.211051</td>\n",
       "      <td>Jinja</td>\n",
       "      <td>2021-09-01 03:00:00+00:00</td>\n",
       "      <td>NaN</td>\n",
       "      <td>NaN</td>\n",
       "      <td>NaN</td>\n",
       "      <td>NaN</td>\n",
       "      <td>60d058c8048305120d2d6142</td>\n",
       "      <td>689753</td>\n",
       "      <td>aq_23</td>\n",
       "    </tr>\n",
       "    <tr>\n",
       "      <th>4</th>\n",
       "      <td>Jinja Main Street, Jinja</td>\n",
       "      <td>0.437337</td>\n",
       "      <td>33.211051</td>\n",
       "      <td>Jinja</td>\n",
       "      <td>2021-09-01 04:00:00+00:00</td>\n",
       "      <td>NaN</td>\n",
       "      <td>NaN</td>\n",
       "      <td>NaN</td>\n",
       "      <td>NaN</td>\n",
       "      <td>60d058c8048305120d2d6142</td>\n",
       "      <td>689753</td>\n",
       "      <td>aq_23</td>\n",
       "    </tr>\n",
       "  </tbody>\n",
       "</table>\n",
       "</div>"
      ],
      "text/plain": [
       "                  site_name  latitude  longitude   city  \\\n",
       "0  Jinja Main Street, Jinja  0.437337  33.211051  Jinja   \n",
       "1  Jinja Main Street, Jinja  0.437337  33.211051  Jinja   \n",
       "2  Jinja Main Street, Jinja  0.437337  33.211051  Jinja   \n",
       "3  Jinja Main Street, Jinja  0.437337  33.211051  Jinja   \n",
       "4  Jinja Main Street, Jinja  0.437337  33.211051  Jinja   \n",
       "\n",
       "                  timestamp  pm2_5_calibrated_value  pm2_5_raw_value  \\\n",
       "0 2021-09-01 00:00:00+00:00                     NaN              NaN   \n",
       "1 2021-09-01 01:00:00+00:00                     NaN              NaN   \n",
       "2 2021-09-01 02:00:00+00:00                     NaN              NaN   \n",
       "3 2021-09-01 03:00:00+00:00                     NaN              NaN   \n",
       "4 2021-09-01 04:00:00+00:00                     NaN              NaN   \n",
       "\n",
       "   pm10_raw_value  pm10_calibrated_value                   site_id  \\\n",
       "0             NaN                    NaN  60d058c8048305120d2d6142   \n",
       "1             NaN                    NaN  60d058c8048305120d2d6142   \n",
       "2             NaN                    NaN  60d058c8048305120d2d6142   \n",
       "3             NaN                    NaN  60d058c8048305120d2d6142   \n",
       "4             NaN                    NaN  60d058c8048305120d2d6142   \n",
       "\n",
       "   device_number device_name  \n",
       "0         689753       aq_23  \n",
       "1         689753       aq_23  \n",
       "2         689753       aq_23  \n",
       "3         689753       aq_23  \n",
       "4         689753       aq_23  "
      ]
     },
     "execution_count": 2,
     "metadata": {},
     "output_type": "execute_result"
    }
   ],
   "source": [
    "jinja_df = pd.read_csv('../data/jinja_data.csv', parse_dates=['timestamp'])\n",
    "jinja_df.head()"
   ]
  },
  {
   "cell_type": "code",
   "execution_count": 3,
   "id": "c1c0429c",
   "metadata": {},
   "outputs": [
    {
     "data": {
      "text/html": [
       "<div>\n",
       "<style scoped>\n",
       "    .dataframe tbody tr th:only-of-type {\n",
       "        vertical-align: middle;\n",
       "    }\n",
       "\n",
       "    .dataframe tbody tr th {\n",
       "        vertical-align: top;\n",
       "    }\n",
       "\n",
       "    .dataframe thead th {\n",
       "        text-align: right;\n",
       "    }\n",
       "</style>\n",
       "<table border=\"1\" class=\"dataframe\">\n",
       "  <thead>\n",
       "    <tr style=\"text-align: right;\">\n",
       "      <th></th>\n",
       "      <th>site_name</th>\n",
       "      <th>latitude</th>\n",
       "      <th>longitude</th>\n",
       "      <th>city</th>\n",
       "      <th>timestamp</th>\n",
       "      <th>pm2_5_calibrated_value</th>\n",
       "      <th>pm2_5_raw_value</th>\n",
       "      <th>pm10_raw_value</th>\n",
       "      <th>pm10_calibrated_value</th>\n",
       "      <th>site_id</th>\n",
       "      <th>device_number</th>\n",
       "      <th>device_name</th>\n",
       "    </tr>\n",
       "  </thead>\n",
       "  <tbody>\n",
       "    <tr>\n",
       "      <th>16827</th>\n",
       "      <td>Mpumudde, Jinja</td>\n",
       "      <td>0.463428</td>\n",
       "      <td>33.206262</td>\n",
       "      <td>Jinja</td>\n",
       "      <td>2021-11-29 19:00:00+00:00</td>\n",
       "      <td>37.4454</td>\n",
       "      <td>47.906395</td>\n",
       "      <td>57.335814</td>\n",
       "      <td>47.493504</td>\n",
       "      <td>615c878d580358002ae96dc2</td>\n",
       "      <td>1379965</td>\n",
       "      <td>aq_g532</td>\n",
       "    </tr>\n",
       "    <tr>\n",
       "      <th>16828</th>\n",
       "      <td>Mpumudde, Jinja</td>\n",
       "      <td>0.463428</td>\n",
       "      <td>33.206262</td>\n",
       "      <td>Jinja</td>\n",
       "      <td>2021-11-29 20:00:00+00:00</td>\n",
       "      <td>57.2599</td>\n",
       "      <td>61.122143</td>\n",
       "      <td>73.658571</td>\n",
       "      <td>61.470257</td>\n",
       "      <td>615c878d580358002ae96dc2</td>\n",
       "      <td>1379965</td>\n",
       "      <td>aq_g532</td>\n",
       "    </tr>\n",
       "    <tr>\n",
       "      <th>16829</th>\n",
       "      <td>Mpumudde, Jinja</td>\n",
       "      <td>0.463428</td>\n",
       "      <td>33.206262</td>\n",
       "      <td>Jinja</td>\n",
       "      <td>2021-11-29 21:00:00+00:00</td>\n",
       "      <td>27.6905</td>\n",
       "      <td>40.096667</td>\n",
       "      <td>48.702381</td>\n",
       "      <td>38.925092</td>\n",
       "      <td>615c878d580358002ae96dc2</td>\n",
       "      <td>1379965</td>\n",
       "      <td>aq_g532</td>\n",
       "    </tr>\n",
       "    <tr>\n",
       "      <th>16830</th>\n",
       "      <td>Mpumudde, Jinja</td>\n",
       "      <td>0.463428</td>\n",
       "      <td>33.206262</td>\n",
       "      <td>Jinja</td>\n",
       "      <td>2021-11-29 22:00:00+00:00</td>\n",
       "      <td>17.8444</td>\n",
       "      <td>32.145714</td>\n",
       "      <td>36.381786</td>\n",
       "      <td>30.198896</td>\n",
       "      <td>615c878d580358002ae96dc2</td>\n",
       "      <td>1379965</td>\n",
       "      <td>aq_g532</td>\n",
       "    </tr>\n",
       "    <tr>\n",
       "      <th>16831</th>\n",
       "      <td>Mpumudde, Jinja</td>\n",
       "      <td>0.463428</td>\n",
       "      <td>33.206262</td>\n",
       "      <td>Jinja</td>\n",
       "      <td>2021-11-29 23:00:00+00:00</td>\n",
       "      <td>18.1647</td>\n",
       "      <td>32.135000</td>\n",
       "      <td>36.750000</td>\n",
       "      <td>30.314966</td>\n",
       "      <td>615c878d580358002ae96dc2</td>\n",
       "      <td>1379965</td>\n",
       "      <td>aq_g532</td>\n",
       "    </tr>\n",
       "  </tbody>\n",
       "</table>\n",
       "</div>"
      ],
      "text/plain": [
       "             site_name  latitude  longitude   city                 timestamp  \\\n",
       "16827  Mpumudde, Jinja  0.463428  33.206262  Jinja 2021-11-29 19:00:00+00:00   \n",
       "16828  Mpumudde, Jinja  0.463428  33.206262  Jinja 2021-11-29 20:00:00+00:00   \n",
       "16829  Mpumudde, Jinja  0.463428  33.206262  Jinja 2021-11-29 21:00:00+00:00   \n",
       "16830  Mpumudde, Jinja  0.463428  33.206262  Jinja 2021-11-29 22:00:00+00:00   \n",
       "16831  Mpumudde, Jinja  0.463428  33.206262  Jinja 2021-11-29 23:00:00+00:00   \n",
       "\n",
       "       pm2_5_calibrated_value  pm2_5_raw_value  pm10_raw_value  \\\n",
       "16827                 37.4454        47.906395       57.335814   \n",
       "16828                 57.2599        61.122143       73.658571   \n",
       "16829                 27.6905        40.096667       48.702381   \n",
       "16830                 17.8444        32.145714       36.381786   \n",
       "16831                 18.1647        32.135000       36.750000   \n",
       "\n",
       "       pm10_calibrated_value                   site_id  device_number  \\\n",
       "16827              47.493504  615c878d580358002ae96dc2        1379965   \n",
       "16828              61.470257  615c878d580358002ae96dc2        1379965   \n",
       "16829              38.925092  615c878d580358002ae96dc2        1379965   \n",
       "16830              30.198896  615c878d580358002ae96dc2        1379965   \n",
       "16831              30.314966  615c878d580358002ae96dc2        1379965   \n",
       "\n",
       "      device_name  \n",
       "16827     aq_g532  \n",
       "16828     aq_g532  \n",
       "16829     aq_g532  \n",
       "16830     aq_g532  \n",
       "16831     aq_g532  "
      ]
     },
     "execution_count": 3,
     "metadata": {},
     "output_type": "execute_result"
    }
   ],
   "source": [
    "jinja_df.tail()"
   ]
  },
  {
   "cell_type": "code",
   "execution_count": 4,
   "id": "1e7d6391",
   "metadata": {},
   "outputs": [
    {
     "data": {
      "text/plain": [
       "(10, 10, 10)"
      ]
     },
     "execution_count": 4,
     "metadata": {},
     "output_type": "execute_result"
    }
   ],
   "source": [
    "latitudes = jinja_df['latitude'].unique()\n",
    "longitudes = jinja_df['longitude'].unique()\n",
    "device_ids = jinja_df['device_number'].unique()\n",
    "len(latitudes), len(longitudes), len(device_ids)"
   ]
  },
  {
   "cell_type": "code",
   "execution_count": 5,
   "id": "86b68514",
   "metadata": {},
   "outputs": [
    {
     "data": {
      "text/html": [
       "<div>\n",
       "<style scoped>\n",
       "    .dataframe tbody tr th:only-of-type {\n",
       "        vertical-align: middle;\n",
       "    }\n",
       "\n",
       "    .dataframe tbody tr th {\n",
       "        vertical-align: top;\n",
       "    }\n",
       "\n",
       "    .dataframe thead th {\n",
       "        text-align: right;\n",
       "    }\n",
       "</style>\n",
       "<table border=\"1\" class=\"dataframe\">\n",
       "  <thead>\n",
       "    <tr style=\"text-align: right;\">\n",
       "      <th></th>\n",
       "      <th>time</th>\n",
       "      <th>latitude</th>\n",
       "      <th>longitude</th>\n",
       "      <th>pm2_5</th>\n",
       "    </tr>\n",
       "  </thead>\n",
       "  <tbody>\n",
       "    <tr>\n",
       "      <th>0</th>\n",
       "      <td>452909.0</td>\n",
       "      <td>0.437337</td>\n",
       "      <td>33.211051</td>\n",
       "      <td>12.2844</td>\n",
       "    </tr>\n",
       "    <tr>\n",
       "      <th>1</th>\n",
       "      <td>452910.0</td>\n",
       "      <td>0.437337</td>\n",
       "      <td>33.211051</td>\n",
       "      <td>11.6507</td>\n",
       "    </tr>\n",
       "    <tr>\n",
       "      <th>2</th>\n",
       "      <td>452911.0</td>\n",
       "      <td>0.437337</td>\n",
       "      <td>33.211051</td>\n",
       "      <td>22.3980</td>\n",
       "    </tr>\n",
       "    <tr>\n",
       "      <th>3</th>\n",
       "      <td>452912.0</td>\n",
       "      <td>0.437337</td>\n",
       "      <td>33.211051</td>\n",
       "      <td>17.4937</td>\n",
       "    </tr>\n",
       "    <tr>\n",
       "      <th>4</th>\n",
       "      <td>452913.0</td>\n",
       "      <td>0.437337</td>\n",
       "      <td>33.211051</td>\n",
       "      <td>25.1622</td>\n",
       "    </tr>\n",
       "  </tbody>\n",
       "</table>\n",
       "</div>"
      ],
      "text/plain": [
       "       time  latitude  longitude    pm2_5\n",
       "0  452909.0  0.437337  33.211051  12.2844\n",
       "1  452910.0  0.437337  33.211051  11.6507\n",
       "2  452911.0  0.437337  33.211051  22.3980\n",
       "3  452912.0  0.437337  33.211051  17.4937\n",
       "4  452913.0  0.437337  33.211051  25.1622"
      ]
     },
     "execution_count": 5,
     "metadata": {},
     "output_type": "execute_result"
    }
   ],
   "source": [
    "final_df = pd.DataFrame()\n",
    "cols = ['timestamp', 'latitude', 'longitude', 'pm2_5_calibrated_value']\n",
    "for i, device_id in enumerate(device_ids):\n",
    "    device_df = utils.get_device_data(jinja_df, device_id, cols)\n",
    "    processed_df = utils.preprocessing(device_df)\n",
    "    final_df = pd.concat([final_df, processed_df])\n",
    "final_df.reset_index(drop=True, inplace=True)\n",
    "final_df.head()"
   ]
  },
  {
   "cell_type": "code",
   "execution_count": 6,
   "id": "ed5ad6b9",
   "metadata": {},
   "outputs": [],
   "source": [
    "def cross_validation(final_df, idx, kernel_variance, lengthscales, likelihood_variance, trainable_kernel, \n",
    "                     trainable_variance, trainable_lengthscales):\n",
    "    device_indices = final_df[final_df.latitude==latitudes[idx]].index\n",
    "    device_df = jinja_df[jinja_df.device_number == device_ids[idx]]\n",
    "    assert(len(device_indices) == len(device_df)-device_df.pm2_5_calibrated_value.isna().sum())\n",
    "    \n",
    "    test_df = final_df.loc[device_indices]\n",
    "    assert(len(test_df.longitude.unique()) == 1)\n",
    "    \n",
    "    train_df = pd.concat([final_df, test_df]).drop_duplicates(keep=False)\n",
    "    assert(len(train_df.longitude.unique()) == len(longitudes)-1)\n",
    "    assert len(final_df) == len(test_df) + len(train_df)\n",
    "    \n",
    "    X_train = train_df.iloc[:, 0:-1]\n",
    "    y_train = train_df.iloc[:, -1]\n",
    "    X_train, y_train = np.array(X_train), np.array(y_train).reshape(-1, 1)\n",
    "    if X_train.shape[0] > 9999:\n",
    "        X_train = X_train[::2, :]\n",
    "        y_train = y_train[::2, :]\n",
    "    \n",
    "    X_test = test_df.iloc[:, 0:-1]\n",
    "    y_test = test_df.iloc[:, -1]\n",
    "    X_test, y_test = np.array(X_test), np.array(y_test).reshape(-1, 1)\n",
    "    #to delete\n",
    "    #X_train, y_train, X_test, y_test = X_train[:100, :], y_train[:100, :], X_test[:100, :], y_test[:100, :]\n",
    "    \n",
    "    if lengthscales == 'train_shape':\n",
    "        lengthscales = np.ones(X_train.shape[1])\n",
    "    \n",
    "    if (lengthscales is None) & (kernel_variance is None):\n",
    "        k = gpflow.kernels.RBF() + gpflow.kernels.Bias()\n",
    "    elif lengthscales is None:\n",
    "        k = gpflow.kernels.RBF(variance=kernel_variance) + gpflow.kernels.Bias()\n",
    "    elif kernel_variance is None:\n",
    "        k = gpflow.kernels.RBF(lengthscales=lengthscales) + gpflow.kernels.Bias()\n",
    "    else:\n",
    "        k = gpflow.kernels.RBF(lengthscales=lengthscales, variance=kernel_variance) + gpflow.kernels.Bias()\n",
    "        \n",
    "    m = gpflow.models.GPR(data=(X_train, y_train), kernel=k, mean_function=None)\n",
    "    if likelihood_variance is None:\n",
    "        pass\n",
    "    else:\n",
    "        m.likelihood.variance.assign(likelihood_variance)\n",
    "    set_trainable(m.kernel.kernels[0].variance, trainable_kernel)\n",
    "    set_trainable(m.likelihood.variance, trainable_variance)\n",
    "    set_trainable(m.kernel.kernels[0].lengthscales, trainable_lengthscales)\n",
    "    \n",
    "    #optimization\n",
    "    opt = gpflow.optimizers.Scipy()\n",
    "    def objective_closure():\n",
    "        return - m.log_marginal_likelihood()\n",
    "    \n",
    "    opt_logs = opt.minimize(objective_closure,\n",
    "                            m.trainable_variables,\n",
    "                            options=dict(maxiter=100))\n",
    "\n",
    "    #prediction\n",
    "    mean, var = m.predict_f(X_test)\n",
    "    \n",
    "    rmse = sqrt(mean_squared_error(y_test, mean.numpy()))\n",
    "    mape = mean_absolute_percentage_error(y_test, mean.numpy())\n",
    "    return rmse, mape\n",
    "    \n",
    "#     return mean.numpy(), var.numpy(), Xtest, Ytest, round(rmse, 2)"
   ]
  },
  {
   "cell_type": "markdown",
   "id": "a21c572c",
   "metadata": {},
   "source": [
    "#### The real work"
   ]
  },
  {
   "cell_type": "code",
   "execution_count": 7,
   "id": "bd14ac5c",
   "metadata": {},
   "outputs": [],
   "source": [
    "# lengthscales = [[0.008, 0.008, 2], None, 'train_shape']\n",
    "lengthscale = [0.008, 0.008, 2]\n",
    "# likelihood_variances = [400, 625, None]\n",
    "likelihood_variance = 400\n",
    "# kernel_variances = [400, 625, None]\n",
    "kernel_variance = None\n",
    "# trainable_kernels = [False, True]\n",
    "trainable_kernel = True \n",
    "# trainable_variances = [False, True]\n",
    "trainable_variance = False\n",
    "# trainable_lengthscales = [False, True]\n",
    "trainable_lengthscale = True"
   ]
  },
  {
   "cell_type": "code",
   "execution_count": 8,
   "id": "07f86c2a",
   "metadata": {},
   "outputs": [
    {
     "name": "stderr",
     "output_type": "stream",
     "text": [
      "2023-07-07 00:53:07.928656: E tensorflow/compiler/xla/stream_executor/cuda/cuda_driver.cc:267] failed call to cuInit: CUDA_ERROR_NO_DEVICE: no CUDA-capable device is detected\n",
      "2023-07-07 00:53:07.928683: I tensorflow/compiler/xla/stream_executor/cuda/cuda_diagnostics.cc:169] retrieving CUDA diagnostic information for host: PL1207-PRO.paris.inria.fr\n",
      "2023-07-07 00:53:07.928687: I tensorflow/compiler/xla/stream_executor/cuda/cuda_diagnostics.cc:176] hostname: PL1207-PRO.paris.inria.fr\n",
      "2023-07-07 00:53:07.928801: I tensorflow/compiler/xla/stream_executor/cuda/cuda_diagnostics.cc:200] libcuda reported version is: 525.125.6\n",
      "2023-07-07 00:53:07.928820: I tensorflow/compiler/xla/stream_executor/cuda/cuda_diagnostics.cc:204] kernel reported version is: NOT_FOUND: could not find kernel module information in driver version file contents: \"NVRM version: NVIDIA UNIX Open Kernel Module for x86_64  525.116.04  Release Build  (dvs-builder@U16-I3-A16-3-3)  Thu Apr 27 18:11:06 UTC 2023\n",
      "GCC version:  gcc version 9.4.0 (Ubuntu 9.4.0-1ubuntu1~20.04.1) \n",
      "\"\n",
      "2023-07-07 00:53:07.929083: I tensorflow/core/platform/cpu_feature_guard.cc:193] This TensorFlow binary is optimized with oneAPI Deep Neural Network Library (oneDNN) to use the following CPU instructions in performance-critical operations:  AVX2 AVX_VNNI FMA\n",
      "To enable them in other operations, rebuild TensorFlow with the appropriate compiler flags.\n"
     ]
    },
    {
     "name": "stdout",
     "output_type": "stream",
     "text": [
      "WARNING:tensorflow:From /home/lmuyama/anaconda3/envs/gp_env/lib/python3.7/site-packages/tensorflow/python/autograph/pyct/static_analysis/liveness.py:83: Analyzer.lamba_check (from tensorflow.python.autograph.pyct.static_analysis.liveness) is deprecated and will be removed after 2023-09-23.\n",
      "Instructions for updating:\n",
      "Lambda fuctions will be no more assumed to be used in the statement where they are used, or at least in the same block. https://github.com/tensorflow/tensorflow/issues/56089\n",
      "689753 successful\n",
      "1014698 successful\n",
      "1014692 successful\n",
      "1014697 successful\n",
      "1290038 successful\n",
      "1373035 successful\n",
      "1373037 successful\n"
     ]
    },
    {
     "name": "stderr",
     "output_type": "stream",
     "text": [
      "2023-07-07 02:32:15.073269: W tensorflow/core/kernels/linalg/cholesky_op.cc:56] Cholesky decomposition was not successful. Eigen::LLT failed with error code 1. Filling lower-triangular output with NaNs.\n"
     ]
    },
    {
     "name": "stdout",
     "output_type": "stream",
     "text": [
      "1373038 successful\n",
      "1373039 successful\n",
      "1379965 successful\n",
      "{'lengthscale': [0.008, 0.008, 2], 'likelihood_variance': 400, 'kernel_variance': None, 'trainable_kernel': True, 'trainable_variance': False, 'trainable_lengthscale': True, 'avg_rmse': 17.602283913305843, 'rmse_list': [11.357703684120983, 21.784479591116558, 10.642979615491374, 16.137419666626414, 14.217015350327113, 22.683998950042604, 16.83702882017617, 13.74363949037157, 24.066536477463124, 24.552037487322494], 'avg_mape': 0.4333220973865197, 'mape_list': [0.7324530404566082, 0.2928445948231008, 0.39467173636965136, 0.25240960334489276, 0.48885564676035914, 0.4498863473569986, 0.3469852721580636, 0.5960556637184437, 0.4387343836518835, 0.3403246852251957]}\n"
     ]
    },
    {
     "ename": "NameError",
     "evalue": "name 'results_df' is not defined",
     "output_type": "error",
     "traceback": [
      "\u001b[0;31m---------------------------------------------------------------------------\u001b[0m",
      "\u001b[0;31mNameError\u001b[0m                                 Traceback (most recent call last)",
      "\u001b[0;32m/tmp/ipykernel_1261550/2405610718.py\u001b[0m in \u001b[0;36m<module>\u001b[0;34m\u001b[0m\n\u001b[1;32m     30\u001b[0m                'avg_rmse':mean_rmse, 'rmse_list':rmse_list, 'avg_mape':mean_mape, 'mape_list':mape_list}\n\u001b[1;32m     31\u001b[0m \u001b[0mprint\u001b[0m\u001b[0;34m(\u001b[0m\u001b[0mresults_dict\u001b[0m\u001b[0;34m)\u001b[0m\u001b[0;34m\u001b[0m\u001b[0;34m\u001b[0m\u001b[0m\n\u001b[0;32m---> 32\u001b[0;31m \u001b[0mresults_df\u001b[0m \u001b[0;34m=\u001b[0m \u001b[0mresults_df\u001b[0m\u001b[0;34m.\u001b[0m\u001b[0mappend\u001b[0m\u001b[0;34m(\u001b[0m\u001b[0mresults_dict\u001b[0m\u001b[0;34m,\u001b[0m \u001b[0mignore_index\u001b[0m\u001b[0;34m=\u001b[0m\u001b[0;32mTrue\u001b[0m\u001b[0;34m)\u001b[0m\u001b[0;34m\u001b[0m\u001b[0;34m\u001b[0m\u001b[0m\n\u001b[0m\u001b[1;32m     33\u001b[0m \u001b[0mresults_df\u001b[0m\u001b[0;34m.\u001b[0m\u001b[0mto_csv\u001b[0m\u001b[0;34m(\u001b[0m\u001b[0;34mf'../results/basic_results_with_mape.csv'\u001b[0m\u001b[0;34m,\u001b[0m \u001b[0mindex\u001b[0m\u001b[0;34m=\u001b[0m\u001b[0;32mFalse\u001b[0m\u001b[0;34m)\u001b[0m\u001b[0;34m\u001b[0m\u001b[0;34m\u001b[0m\u001b[0m\n",
      "\u001b[0;31mNameError\u001b[0m: name 'results_df' is not defined"
     ]
    }
   ],
   "source": [
    "# results_df = pd.DataFrame()\n",
    "# count = 12\n",
    "# results_df = pd.read_csv(f'../results/basic_results_{count}.csv')\n",
    "# for lengthscale in lengthscales:\n",
    "#     for likelihood_variance in likelihood_variances:\n",
    "#         for kernel_variance in kernel_variances:\n",
    "#             for trainable_kernel in trainable_kernels:\n",
    "#                 for trainable_variance in trainable_variances:\n",
    "#                     for trainable_lengthscale in trainable_lengthscales:\n",
    "# #                         count+=1\n",
    "rmse_list, mape_list = [], []\n",
    "# print(f'EXPERIMENT {count}')\n",
    "for i in range(len(latitudes)):\n",
    "    try:\n",
    "        rmse, mape = cross_validation(final_df, i, kernel_variance, lengthscale, likelihood_variance, \n",
    "                                trainable_kernel, trainable_variance, trainable_lengthscale)\n",
    "        rmse_list.append(rmse)\n",
    "        mape_list.append(mape)\n",
    "        print(f'{device_ids[i]} successful')\n",
    "    except Exception as e:\n",
    "        print(e)\n",
    "        print(f'{device_ids[i]} failed')\n",
    "        break\n",
    "\n",
    "mean_rmse = np.mean(rmse_list)\n",
    "mean_mape = np.mean(mape_list)\n",
    "results_dict= {'lengthscale':lengthscale, 'likelihood_variance':likelihood_variance, \n",
    "               'kernel_variance':kernel_variance, 'trainable_kernel':trainable_kernel, \n",
    "               'trainable_variance':trainable_variance, 'trainable_lengthscale':trainable_lengthscale, \n",
    "               'avg_rmse':mean_rmse, 'rmse_list':rmse_list, 'avg_mape':mean_mape, 'mape_list':mape_list}\n",
    "print(results_dict)\n",
    "results_df = results_df.append(results_dict, ignore_index=True)\n",
    "results_df.to_csv(f'../results/basic_results_with_mape.csv', index=False)               "
   ]
  },
  {
   "cell_type": "code",
   "execution_count": 10,
   "id": "7ee6475b",
   "metadata": {},
   "outputs": [],
   "source": [
    "results_df=pd.DataFrame()\n",
    "results_df = results_df.append(results_dict, ignore_index=True)\n",
    "# results_df.to_csv(f'../results/basic_results_with_mape.csv', index=False)               "
   ]
  },
  {
   "cell_type": "code",
   "execution_count": 11,
   "id": "a33ecbdc",
   "metadata": {},
   "outputs": [
    {
     "data": {
      "text/plain": [
       "[11.357703684120983,\n",
       " 21.784479591116558,\n",
       " 10.642979615491374,\n",
       " 16.137419666626414,\n",
       " 14.217015350327113,\n",
       " 22.683998950042604,\n",
       " 16.83702882017617,\n",
       " 13.74363949037157,\n",
       " 24.066536477463124,\n",
       " 24.552037487322494]"
      ]
     },
     "execution_count": 11,
     "metadata": {},
     "output_type": "execute_result"
    }
   ],
   "source": [
    "rmse_list"
   ]
  },
  {
   "cell_type": "code",
   "execution_count": 12,
   "id": "ef3f5335",
   "metadata": {},
   "outputs": [
    {
     "data": {
      "text/plain": [
       "17.602283913305843"
      ]
     },
     "execution_count": 12,
     "metadata": {},
     "output_type": "execute_result"
    }
   ],
   "source": [
    "mean_rmse"
   ]
  },
  {
   "cell_type": "code",
   "execution_count": 13,
   "id": "f701af17",
   "metadata": {},
   "outputs": [
    {
     "data": {
      "text/plain": [
       "[0.7324530404566082,\n",
       " 0.2928445948231008,\n",
       " 0.39467173636965136,\n",
       " 0.25240960334489276,\n",
       " 0.48885564676035914,\n",
       " 0.4498863473569986,\n",
       " 0.3469852721580636,\n",
       " 0.5960556637184437,\n",
       " 0.4387343836518835,\n",
       " 0.3403246852251957]"
      ]
     },
     "execution_count": 13,
     "metadata": {},
     "output_type": "execute_result"
    }
   ],
   "source": [
    "mape_list"
   ]
  },
  {
   "cell_type": "code",
   "execution_count": 14,
   "id": "92e85bab",
   "metadata": {},
   "outputs": [
    {
     "data": {
      "text/plain": [
       "0.4333220973865197"
      ]
     },
     "execution_count": 14,
     "metadata": {},
     "output_type": "execute_result"
    }
   ],
   "source": [
    "mean_mape"
   ]
  },
  {
   "cell_type": "code",
   "execution_count": null,
   "id": "68c5cf56",
   "metadata": {},
   "outputs": [],
   "source": []
  }
 ],
 "metadata": {
  "kernelspec": {
   "display_name": "Python 3 (ipykernel)",
   "language": "python",
   "name": "python3"
  },
  "language_info": {
   "codemirror_mode": {
    "name": "ipython",
    "version": 3
   },
   "file_extension": ".py",
   "mimetype": "text/x-python",
   "name": "python",
   "nbconvert_exporter": "python",
   "pygments_lexer": "ipython3",
   "version": "3.7.4"
  }
 },
 "nbformat": 4,
 "nbformat_minor": 5
}
